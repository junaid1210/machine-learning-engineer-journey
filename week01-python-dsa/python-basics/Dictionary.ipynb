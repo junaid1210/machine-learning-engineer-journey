{
  "cells": [
    {
      "cell_type": "markdown",
      "source": [
        "#Dictionary"
      ],
      "metadata": {
        "id": "IbUd16LpvFA0"
      }
    },
    {
      "cell_type": "markdown",
      "source": [
        "Ask subject name and marks from the user and keep adding it to\n",
        "dictionary."
      ],
      "metadata": {
        "id": "FCtlPknuvHSe"
      }
    },
    {
      "cell_type": "code",
      "source": [
        "total_sub = int(input(\"Enter total number of subjects: \"))\n",
        "\n",
        "marks = {}\n",
        "\n",
        "for _ in range(0,total_sub):\n",
        "  sub_name = input(\"Enter subject name: \")\n",
        "  sub_marks = int(input(f\"Enter {sub_name} marks: \"))\n",
        "  marks[sub_name]=sub_marks\n",
        "\n",
        "print(marks)\n",
        "\n",
        "total_marks = sum(marks.values())\n",
        "print(f\"Total: {total_marks}\")"
      ],
      "metadata": {
        "colab": {
          "base_uri": "https://localhost:8080/"
        },
        "id": "8We2fdiQvM88",
        "outputId": "1583154a-a923-4ac4-d493-c3af0be97862"
      },
      "execution_count": null,
      "outputs": [
        {
          "output_type": "stream",
          "name": "stdout",
          "text": [
            "Enter total number of subjects: 2\n",
            "Enter subject name: bio\n",
            "Enter bio marks: 34\n",
            "Enter subject name: eng\n",
            "Enter eng marks: 45\n",
            "{'bio': 34, 'eng': 45}\n",
            "Total: 79\n"
          ]
        }
      ]
    },
    {
      "cell_type": "code",
      "source": [],
      "metadata": {
        "id": "AI4zi6q7CANi"
      },
      "execution_count": null,
      "outputs": []
    },
    {
      "cell_type": "markdown",
      "source": [
        "Convert two lists into a dictionary. Make two list on your own of\n",
        "same length, and convert them to dictionary."
      ],
      "metadata": {
        "id": "syA3rDl9Cg7X"
      }
    },
    {
      "cell_type": "code",
      "source": [
        "list1 = [\"one\", \"two\", \"three\", \"four\"]\n",
        "list2 = [1,2,3,4]\n",
        "\n",
        "new_list = {}\n",
        "\n",
        "for i in range(0, len(list1)):\n",
        "  new_list[list1[i]] = list2[i]\n",
        "\n",
        "print(new_list)\n"
      ],
      "metadata": {
        "colab": {
          "base_uri": "https://localhost:8080/"
        },
        "id": "mTvXjy-dChUk",
        "outputId": "098c5d90-079a-4a02-ed96-ce77ab2d4a15"
      },
      "execution_count": null,
      "outputs": [
        {
          "output_type": "stream",
          "name": "stdout",
          "text": [
            "{'one': 1, 'two': 2, 'three': 3, 'four': 4}\n"
          ]
        }
      ]
    },
    {
      "cell_type": "code",
      "source": [],
      "metadata": {
        "id": "PL0EmwN5Toj4"
      },
      "execution_count": null,
      "outputs": []
    },
    {
      "cell_type": "markdown",
      "source": [
        "Write a Python program to sum all the items in a dictionary."
      ],
      "metadata": {
        "id": "p3St0z04Tq_y"
      }
    },
    {
      "cell_type": "code",
      "source": [
        "dict1 = {\n",
        "    \"sub1\" : 50,\n",
        "    \"sub2\" : 40,\n",
        "    \"sub3\" : 30,\n",
        "    \"sub4\" : 20\n",
        "}\n",
        "\n",
        "total = []\n",
        "\n",
        "for i in dict1.values():\n",
        "  total.append(i)\n",
        "\n",
        "print(sum(total))\n"
      ],
      "metadata": {
        "id": "LAWhZVLmTreC",
        "colab": {
          "base_uri": "https://localhost:8080/"
        },
        "outputId": "92bb1bbc-3ac3-4c51-85d1-fbf7965f0593"
      },
      "execution_count": null,
      "outputs": [
        {
          "output_type": "stream",
          "name": "stdout",
          "text": [
            "140\n"
          ]
        }
      ]
    },
    {
      "cell_type": "code",
      "source": [
        "dict1 = {\n",
        "    \"sub1\" : 50,\n",
        "    \"sub2\" : 40,\n",
        "    \"sub3\" : 30,\n",
        "    \"sub4\" : 20\n",
        "}\n",
        "\n",
        "total = 0\n",
        "\n",
        "for v in dict1.values():\n",
        "  total = total + v\n",
        "\n",
        "print(total)"
      ],
      "metadata": {
        "colab": {
          "base_uri": "https://localhost:8080/"
        },
        "id": "9v-hiOSHVBeO",
        "outputId": "e2a51a84-eeba-4cd4-8b47-eca6867ec613"
      },
      "execution_count": null,
      "outputs": [
        {
          "output_type": "stream",
          "name": "stdout",
          "text": [
            "140\n"
          ]
        }
      ]
    },
    {
      "cell_type": "code",
      "source": [
        "dict1 = {\n",
        "    \"sub1\" : 50,\n",
        "    \"sub2\" : 40,\n",
        "    \"sub3\" : 30,\n",
        "    \"sub4\" : 20\n",
        "}\n",
        "\n",
        "print(sum(list(dict1.values())))"
      ],
      "metadata": {
        "colab": {
          "base_uri": "https://localhost:8080/"
        },
        "id": "CDdf0uUuVKvd",
        "outputId": "3a7c90fe-2822-476d-e3e9-66e0ff83216a"
      },
      "execution_count": null,
      "outputs": [
        {
          "output_type": "stream",
          "name": "stdout",
          "text": [
            "140\n"
          ]
        }
      ]
    },
    {
      "cell_type": "code",
      "source": [],
      "metadata": {
        "id": "rQ8LNqcxVlxT"
      },
      "execution_count": null,
      "outputs": []
    },
    {
      "cell_type": "markdown",
      "source": [
        "Write a Python program to multiply all the items in a dictionary."
      ],
      "metadata": {
        "id": "maf9XX1pVmCi"
      }
    },
    {
      "cell_type": "code",
      "source": [
        "dict1 = {\n",
        "    \"sub1\" : 50,\n",
        "    \"sub2\" : 40,\n",
        "    \"sub3\" : 30,\n",
        "    \"sub4\" : 20\n",
        "}\n",
        "\n",
        "total = 1\n",
        "\n",
        "for v in dict1.values():\n",
        "  total = total * v\n",
        "\n",
        "print(total)"
      ],
      "metadata": {
        "id": "3jyYK9LZVpXd",
        "colab": {
          "base_uri": "https://localhost:8080/"
        },
        "outputId": "60bf56cd-3ca3-489d-fec8-fb5868e22fae"
      },
      "execution_count": 22,
      "outputs": [
        {
          "output_type": "stream",
          "name": "stdout",
          "text": [
            "1200000\n"
          ]
        }
      ]
    },
    {
      "cell_type": "code",
      "source": [],
      "metadata": {
        "id": "Ua0x3HHjWeUd"
      },
      "execution_count": null,
      "outputs": []
    },
    {
      "cell_type": "markdown",
      "source": [
        "Ask a string from user. Display the dictionary where each key is a\n",
        "character and value is the frequency of that character that comes in that\n",
        "string."
      ],
      "metadata": {
        "id": "UmGDXVWyWesc"
      }
    },
    {
      "cell_type": "code",
      "source": [
        "user_output = input(\"Enter string: \")\n",
        "\n",
        "dict1 = {}\n",
        "\n",
        "for i in user_output:\n",
        "  if i in dict1:\n",
        "    dict1[i] += 1\n",
        "\n",
        "  else:\n",
        "    dict1[i] = 1\n",
        "\n",
        "print(dict1)\n"
      ],
      "metadata": {
        "colab": {
          "base_uri": "https://localhost:8080/"
        },
        "id": "OhxkRDluWfU7",
        "outputId": "684ff99d-d5f1-438e-e01a-5550a85b8f15"
      },
      "execution_count": 30,
      "outputs": [
        {
          "output_type": "stream",
          "name": "stdout",
          "text": [
            "Enter string: hello\n",
            "{'h': 1, 'e': 1, 'l': 2, 'o': 1}\n"
          ]
        }
      ]
    },
    {
      "cell_type": "code",
      "source": [],
      "metadata": {
        "id": "iFMvdhYrYvNb"
      },
      "execution_count": null,
      "outputs": []
    },
    {
      "cell_type": "markdown",
      "source": [
        "Store “name” of a student as Key, “list of 5 marks” of that student as a Value. Store atleast 5 student names. Print the sum and percentage of all the students."
      ],
      "metadata": {
        "id": "VWRJ3NBGYvaM"
      }
    },
    {
      "cell_type": "code",
      "source": [
        "students = {\n",
        "    \"ali\" : [20,30,40],\n",
        "    \"asad\" : [50,30,40],\n",
        "    \"ahmed\" : [60,30,40],\n",
        "    \"usman\" : [70,30,40],\n",
        "    \"hamza\" : [80,30,40]\n",
        "    }\n",
        "\n",
        "for name, marks in students.items():\n",
        "  total = sum(marks)\n",
        "  percentage = total / 1000 * 100\n",
        "\n",
        "  print(f\"{name} scored total {total} marks and percentage is {percentage:.1f}\")"
      ],
      "metadata": {
        "colab": {
          "base_uri": "https://localhost:8080/"
        },
        "id": "fTUmB4ldYxN-",
        "outputId": "f3ea37f7-f322-4acb-81dc-7d322e1bf82b"
      },
      "execution_count": 47,
      "outputs": [
        {
          "output_type": "stream",
          "name": "stdout",
          "text": [
            "ali scored total 90 marks and percentage is 9.0\n",
            "asad scored total 120 marks and percentage is 12.0\n",
            "ahmed scored total 130 marks and percentage is 13.0\n",
            "usman scored total 140 marks and percentage is 14.0\n",
            "hamza scored total 150 marks and percentage is 15.0\n"
          ]
        }
      ]
    }
  ],
  "metadata": {
    "colab": {
      "provenance": []
    },
    "kernelspec": {
      "display_name": "Python 3",
      "name": "python3"
    }
  },
  "nbformat": 4,
  "nbformat_minor": 0
}