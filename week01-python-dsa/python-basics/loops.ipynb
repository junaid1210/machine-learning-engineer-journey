{
  "cells": [
    {
      "cell_type": "markdown",
      "source": [
        "#for loop"
      ],
      "metadata": {
        "id": "v0SmeJgxI07b"
      }
    },
    {
      "cell_type": "code",
      "source": [
        "salaries=[1000, 12000, 14000, 16000, 20000]\n",
        "for i in salaries:\n",
        "  print(i)"
      ],
      "metadata": {
        "colab": {
          "base_uri": "https://localhost:8080/"
        },
        "id": "VODcVHGqLUfP",
        "outputId": "1c11bf6c-c1ea-4c76-cf43-9bb2fca6e7c6"
      },
      "execution_count": null,
      "outputs": [
        {
          "output_type": "stream",
          "name": "stdout",
          "text": [
            "1000\n",
            "12000\n",
            "14000\n",
            "16000\n",
            "20000\n"
          ]
        }
      ]
    },
    {
      "cell_type": "code",
      "source": [
        "salaries=[1000, 12000, 14000, 16000, 20000]\n",
        "total=0\n",
        "\n",
        "for i in salaries:\n",
        "  total=total+i\n",
        "\n",
        "print(total)"
      ],
      "metadata": {
        "colab": {
          "base_uri": "https://localhost:8080/"
        },
        "id": "qPWd2gGFLUc0",
        "outputId": "9b5e82ee-b871-49fd-9e24-7bba00ebead7"
      },
      "execution_count": null,
      "outputs": [
        {
          "output_type": "stream",
          "name": "stdout",
          "text": [
            "63000\n"
          ]
        }
      ]
    },
    {
      "cell_type": "code",
      "source": [
        "for i in range(1,10):\n",
        "  print(i)"
      ],
      "metadata": {
        "colab": {
          "base_uri": "https://localhost:8080/"
        },
        "id": "t4AxR4LoLUZw",
        "outputId": "351fd833-8aa8-4838-ee5f-9294acef031b"
      },
      "execution_count": null,
      "outputs": [
        {
          "output_type": "stream",
          "name": "stdout",
          "text": [
            "1\n",
            "2\n",
            "3\n",
            "4\n",
            "5\n",
            "6\n",
            "7\n",
            "8\n",
            "9\n"
          ]
        }
      ]
    },
    {
      "cell_type": "code",
      "source": [
        "total=0\n",
        "for i in range(1,10):\n",
        "  total=total+i\n",
        "\n",
        "print(total)"
      ],
      "metadata": {
        "colab": {
          "base_uri": "https://localhost:8080/"
        },
        "id": "brsY6sKbLUXb",
        "outputId": "48616da6-15d2-428a-db57-24e1f9f6de2f"
      },
      "execution_count": null,
      "outputs": [
        {
          "output_type": "stream",
          "name": "stdout",
          "text": [
            "45\n"
          ]
        }
      ]
    },
    {
      "cell_type": "code",
      "source": [
        "total=0\n",
        "for i in range(1,10):\n",
        "  total=total+i\n",
        "  print(total)\n",
        "\n",
        "print(\"Total is:\",total)"
      ],
      "metadata": {
        "colab": {
          "base_uri": "https://localhost:8080/"
        },
        "id": "RDNqJB03LUUw",
        "outputId": "9d1f7414-c645-4c14-cf69-48c9add55116"
      },
      "execution_count": null,
      "outputs": [
        {
          "output_type": "stream",
          "name": "stdout",
          "text": [
            "1\n",
            "3\n",
            "6\n",
            "10\n",
            "15\n",
            "21\n",
            "28\n",
            "36\n",
            "45\n",
            "Total is: 45\n"
          ]
        }
      ]
    },
    {
      "cell_type": "code",
      "source": [
        "for i in range(1,11):\n",
        "  print(\"4 *\",i,\"=\",4*i)"
      ],
      "metadata": {
        "id": "yc7HDq-4_SFR",
        "outputId": "6a89643b-bbdf-4f01-9145-441f121ceb15",
        "colab": {
          "base_uri": "https://localhost:8080/"
        }
      },
      "execution_count": null,
      "outputs": [
        {
          "output_type": "stream",
          "name": "stdout",
          "text": [
            "4 * 1 = 4\n",
            "4 * 2 = 8\n",
            "4 * 3 = 12\n",
            "4 * 4 = 16\n",
            "4 * 5 = 20\n",
            "4 * 6 = 24\n",
            "4 * 7 = 28\n",
            "4 * 8 = 32\n",
            "4 * 9 = 36\n",
            "4 * 10 = 40\n"
          ]
        }
      ]
    },
    {
      "cell_type": "code",
      "source": [
        "i=1\n",
        "while i != 11:\n",
        "  print(\"4 *\",i,\"=\",4*i)\n",
        "  i=i+1"
      ],
      "metadata": {
        "id": "NpV-qAKU_SCo",
        "outputId": "d2a67cc2-20fc-4394-b3d2-c3d61831f94e",
        "colab": {
          "base_uri": "https://localhost:8080/"
        }
      },
      "execution_count": null,
      "outputs": [
        {
          "output_type": "stream",
          "name": "stdout",
          "text": [
            "4 * 1 = 4\n",
            "4 * 2 = 8\n",
            "4 * 3 = 12\n",
            "4 * 4 = 16\n",
            "4 * 5 = 20\n",
            "4 * 6 = 24\n",
            "4 * 7 = 28\n",
            "4 * 8 = 32\n",
            "4 * 9 = 36\n",
            "4 * 10 = 40\n"
          ]
        }
      ]
    },
    {
      "cell_type": "code",
      "source": [
        "salaries=[1000, 12000, 14000, 16000, 20000]\n",
        "\n",
        "for i in salaries:\n",
        "  print(\"month\",i)"
      ],
      "metadata": {
        "id": "PZutMdGf_R8r",
        "outputId": "61d71dfb-ff0a-449d-d71d-5fb4712751a7",
        "colab": {
          "base_uri": "https://localhost:8080/"
        }
      },
      "execution_count": null,
      "outputs": [
        {
          "output_type": "stream",
          "name": "stdout",
          "text": [
            "month 1000\n",
            "month 12000\n",
            "month 14000\n",
            "month 16000\n",
            "month 20000\n"
          ]
        }
      ]
    },
    {
      "cell_type": "code",
      "source": [
        "salaries=[1000, 12000, 14000, 16000, 20000]\n",
        "\n",
        "total = 0\n",
        "\n",
        "for i in range(len(salaries)):\n",
        "  print(\"Month\", i+1, \"salary is\", salaries[i])\n",
        "  total = total+salaries[i]\n",
        "\n",
        "print(total)"
      ],
      "metadata": {
        "id": "1Y5W5j2q_R5A",
        "outputId": "997db136-be3b-451c-c269-f8ac5ec57859",
        "colab": {
          "base_uri": "https://localhost:8080/"
        }
      },
      "execution_count": null,
      "outputs": [
        {
          "output_type": "stream",
          "name": "stdout",
          "text": [
            "Month 1 salary is 1000\n",
            "Month 2 salary is 12000\n",
            "Month 3 salary is 14000\n",
            "Month 4 salary is 16000\n",
            "Month 5 salary is 20000\n",
            "63000\n"
          ]
        }
      ]
    },
    {
      "cell_type": "code",
      "source": [
        "thing=\"soap\"\n",
        "\n",
        "list=[\"key\",\"soap\",\"lock\",\"cycle\",\"car\"]\n",
        "\n",
        "for i in list:\n",
        "  if i == thing:\n",
        "    print(\"The things is found and that is: \",i)\n",
        "    break\n",
        "  else:\n",
        "    print(\"not found\")"
      ],
      "metadata": {
        "id": "EGVZ-1mXDuzF",
        "outputId": "ef7662c1-9b42-46f9-987c-2338b2ae9a2b",
        "colab": {
          "base_uri": "https://localhost:8080/"
        }
      },
      "execution_count": null,
      "outputs": [
        {
          "output_type": "stream",
          "name": "stdout",
          "text": [
            "not found\n",
            "The things is found and that is:  soap\n"
          ]
        }
      ]
    },
    {
      "cell_type": "code",
      "source": [
        "thing=\"soap\"\n",
        "\n",
        "list=[\"key\",\"soap\",\"lock\",\"cycle\",\"car\"]\n",
        "\n",
        "for i in list:\n",
        "  if i == thing:\n",
        "    continue\n",
        "    print(\"The things is found and that is: \",i)\n",
        "  else:\n",
        "    print(\"not found\")"
      ],
      "metadata": {
        "id": "FWgUHIsTDuwm",
        "outputId": "7eea3867-c5b1-4e87-8b42-dd67b1657e4e",
        "colab": {
          "base_uri": "https://localhost:8080/"
        }
      },
      "execution_count": null,
      "outputs": [
        {
          "output_type": "stream",
          "name": "stdout",
          "text": [
            "not found\n",
            "not found\n",
            "not found\n",
            "not found\n"
          ]
        }
      ]
    },
    {
      "cell_type": "markdown",
      "source": [
        "#Excercises"
      ],
      "metadata": {
        "id": "03-XpbPhZVN7"
      }
    },
    {
      "cell_type": "markdown",
      "source": [
        "Exercise: Python for loop\n",
        " 1. After flipping a coin 10 times you got this result,\n",
        "\n",
        " result = [\"heads\",\"tails\",\"tails\",\"heads\",\"tails\",\"heads\",\"heads\",\"tails\",\"tails\",\"tails\"]\n",
        "\n",
        " Using for loop figure out how many times you got heads"
      ],
      "metadata": {
        "id": "aML6ARx7ZXWd"
      }
    },
    {
      "cell_type": "code",
      "source": [
        "result = [\"heads\",\"tails\",\"tails\",\"heads\",\"tails\",\"heads\",\"heads\",\"tails\",\"tails\",\"tails\"]\n",
        "\n",
        "count=0\n",
        "\n",
        "for i in result:\n",
        "  if i == \"heads\":\n",
        "    count+=1\n",
        "\n",
        "print(count)"
      ],
      "metadata": {
        "colab": {
          "base_uri": "https://localhost:8080/"
        },
        "id": "O-y9lEFiZWqi",
        "outputId": "c0eceb8c-6832-4878-c922-38c58870e9e3"
      },
      "execution_count": null,
      "outputs": [
        {
          "output_type": "stream",
          "name": "stdout",
          "text": [
            "4\n"
          ]
        }
      ]
    },
    {
      "cell_type": "code",
      "source": [],
      "metadata": {
        "id": "G22xGNgyjY_K"
      },
      "execution_count": null,
      "outputs": []
    },
    {
      "cell_type": "markdown",
      "source": [
        "2. Print square of all numbers between 1 to 10 except even numbers"
      ],
      "metadata": {
        "id": "Ui8EMMBIjaSm"
      }
    },
    {
      "cell_type": "code",
      "source": [
        "for i in range(1,11):\n",
        "  if i%2 != 0:\n",
        "    print(i**2)"
      ],
      "metadata": {
        "colab": {
          "base_uri": "https://localhost:8080/"
        },
        "id": "Hq1vVM1qjbV0",
        "outputId": "f68d41a4-e344-4599-9a44-0b9a03b5baa5"
      },
      "execution_count": null,
      "outputs": [
        {
          "output_type": "stream",
          "name": "stdout",
          "text": [
            "1\n",
            "9\n",
            "25\n",
            "49\n",
            "81\n"
          ]
        }
      ]
    },
    {
      "cell_type": "code",
      "source": [
        "for i in range(1,11):\n",
        "  if i % 2 == 0:\n",
        "    continue\n",
        "  print(i**2)"
      ],
      "metadata": {
        "colab": {
          "base_uri": "https://localhost:8080/"
        },
        "id": "vtYX71z0kA2f",
        "outputId": "2e61e139-0dde-4dd5-f092-74419bc94337"
      },
      "execution_count": null,
      "outputs": [
        {
          "output_type": "stream",
          "name": "stdout",
          "text": [
            "1\n",
            "9\n",
            "25\n",
            "49\n",
            "81\n"
          ]
        }
      ]
    },
    {
      "cell_type": "code",
      "source": [
        "for i in range(1,11):\n",
        "  if i % 2 == 0:\n",
        "    continue\n",
        "  print(i*i)"
      ],
      "metadata": {
        "colab": {
          "base_uri": "https://localhost:8080/"
        },
        "id": "Euct6MQzkPrH",
        "outputId": "f5cd1a34-0e79-47e8-a216-a1867cf66d82"
      },
      "execution_count": null,
      "outputs": [
        {
          "output_type": "stream",
          "name": "stdout",
          "text": [
            "1\n",
            "9\n",
            "25\n",
            "49\n",
            "81\n"
          ]
        }
      ]
    },
    {
      "cell_type": "code",
      "source": [],
      "metadata": {
        "id": "A4a3lVE1kUYH"
      },
      "execution_count": null,
      "outputs": []
    },
    {
      "cell_type": "markdown",
      "source": [
        "3. Your monthly expense list (from Jan to May) looks like this,\n",
        "\n",
        " expense_list = [2340, 2500, 2100, 3100, 2980]\n",
        "\n",
        " Write a program that asks you to enter an expense amount and program\n",
        " should tell you in which month that expense occurred. If expense is not\n",
        " found then it should print that as well."
      ],
      "metadata": {
        "id": "4bfHrXChkUq3"
      }
    },
    {
      "cell_type": "code",
      "source": [
        "month_list = [\"Jan\", \"Feb\", \"Mar\", \"Apr\", \"May\"]\n",
        "expense_list = [2340, 2500, 2100, 3100, 2980]\n",
        "\n",
        "ask=int(input(\"Enter the expense: \"))\n",
        "\n",
        "if ask"
      ],
      "metadata": {
        "id": "o3vxRwvMkZU9"
      },
      "execution_count": null,
      "outputs": []
    },
    {
      "cell_type": "code",
      "source": [],
      "metadata": {
        "id": "jgXVZvWrZQtC"
      },
      "execution_count": null,
      "outputs": []
    },
    {
      "cell_type": "markdown",
      "source": [
        "#Nested Loops"
      ],
      "metadata": {
        "id": "uLVRjdISZRCG"
      }
    },
    {
      "cell_type": "markdown",
      "source": [
        "Write a program that takes three numbers as input and determines\n",
        "the largest one using nested if-else statements. Make sure all 3 numbers\n",
        "entered by user are different."
      ],
      "metadata": {
        "id": "SAtoNt3oZURb"
      }
    },
    {
      "cell_type": "code",
      "source": [
        "num1=int(input(\"Enter 1st number: \"))\n",
        "num2=int(input(\"Enter 2nd number: \"))\n",
        "num3=int(input(\"Enter 3rd number: \"))\n",
        "\n",
        "if num1!=num2 and num2!=num3 and num1!=num3:\n",
        "  if num1 > num2:\n",
        "    if num1 > num3:\n",
        "      largest=num1\n",
        "    else:\n",
        "      largest=num3\n",
        "  else:\n",
        "    if num2>num3:\n",
        "      largest=num2\n",
        "    else:\n",
        "      largest=num3\n",
        "  print(f\"Largest number is {largest}\")\n",
        "\n",
        "else:\n",
        "  print(f\"Numbers are duplicate. Enter numbers again\")\n"
      ],
      "metadata": {
        "colab": {
          "base_uri": "https://localhost:8080/"
        },
        "id": "R34ePqe2ZTHr",
        "outputId": "2b1ac6cc-9353-4b7d-ccda-1fb8a90ed8a1"
      },
      "execution_count": 12,
      "outputs": [
        {
          "output_type": "stream",
          "name": "stdout",
          "text": [
            "Enter 1st number: 1\n",
            "Enter 2nd number: 4\n",
            "Enter 3rd number: 6\n",
            "Largest number is 6\n"
          ]
        }
      ]
    },
    {
      "cell_type": "code",
      "source": [],
      "metadata": {
        "id": "wXW1nHKilEp_"
      },
      "execution_count": null,
      "outputs": []
    },
    {
      "cell_type": "markdown",
      "source": [
        "Write a program that checks if a given year is a leap year. Leap years\n",
        "are divisible by 4, but not by 100 unless they are also divisible by 400."
      ],
      "metadata": {
        "id": "wMy7qHfUlFAP"
      }
    },
    {
      "cell_type": "code",
      "source": [
        "year=int(input(\"Enter the year: \"))\n",
        "\n",
        "if year % 4 == 0:\n",
        "  if year % 100 == 0:\n",
        "    if year % 400 == 0:\n",
        "      print(f\"{year} is a leap year\")\n",
        "    else:\n",
        "      print(f\"{year} is not a leap year\")\n",
        "\n",
        "  else:\n",
        "    print(f\"{year} is a leap year\")\n",
        "else:\n",
        "  print(f\"{year} is not a leap year\")\n",
        "\n"
      ],
      "metadata": {
        "colab": {
          "base_uri": "https://localhost:8080/"
        },
        "id": "3fgGEjYalFbn",
        "outputId": "ce3b73e3-3c89-481b-94a5-7f898abedd50"
      },
      "execution_count": 21,
      "outputs": [
        {
          "output_type": "stream",
          "name": "stdout",
          "text": [
            "Enter the year: 1900\n",
            "1900 is not a leap year\n"
          ]
        }
      ]
    },
    {
      "cell_type": "code",
      "source": [],
      "metadata": {
        "id": "mu4t96rStK_2"
      },
      "execution_count": null,
      "outputs": []
    },
    {
      "cell_type": "markdown",
      "source": [
        "Create a program that calculates the price of a movie ticket based on\n",
        "the age of the customer. If the customer is under 12, the ticket costs $5; if\n",
        "they are between 12 and 65, the ticket costs $10; otherwise, it's $7."
      ],
      "metadata": {
        "id": "sS9cMQlltLWx"
      }
    },
    {
      "cell_type": "code",
      "source": [
        "age=int(input(\"Enter your age: \"))\n",
        "\n",
        "if age < 12:\n",
        "  if age > 12:\n",
        "    if age > 65:\n",
        "      print(f\"Ticket price is $7\")\n",
        "    else:\n",
        "      print(f\"Wrong age\")\n",
        "  else:\n",
        "    print(\"TIcket price is $10\")\n",
        "else:\n",
        "  print(\"Ticket price is $5\")"
      ],
      "metadata": {
        "colab": {
          "base_uri": "https://localhost:8080/",
          "height": 110
        },
        "id": "2RL9SnAPtRGJ",
        "outputId": "81f15b4e-5456-41a2-cf93-d185b6f2aaf5"
      },
      "execution_count": 22,
      "outputs": [
        {
          "output_type": "error",
          "ename": "SyntaxError",
          "evalue": "invalid syntax (ipython-input-22-1961649248.py, line 5)",
          "traceback": [
            "\u001b[0;36m  File \u001b[0;32m\"/tmp/ipython-input-22-1961649248.py\"\u001b[0;36m, line \u001b[0;32m5\u001b[0m\n\u001b[0;31m    if age >= 12 and <= 65:\u001b[0m\n\u001b[0m                     ^\u001b[0m\n\u001b[0;31mSyntaxError\u001b[0m\u001b[0;31m:\u001b[0m invalid syntax\n"
          ]
        }
      ]
    },
    {
      "cell_type": "code",
      "source": [
        "age=int(input(\"Enter your age: \"))\n",
        "\n",
        "if age < 12:\n",
        "  print(\"Ticket price is $5\")\n",
        "else:\n",
        "    if age <= 65:\n",
        "      print(\"Ticket price is $7\")\n",
        "    else:\n",
        "      print(\"Ticket price is $10\")\n"
      ],
      "metadata": {
        "colab": {
          "base_uri": "https://localhost:8080/"
        },
        "id": "TBGUBqxjvyGk",
        "outputId": "7bb2fd29-0a5c-4d28-c7fc-05a153bb638a"
      },
      "execution_count": 30,
      "outputs": [
        {
          "output_type": "stream",
          "name": "stdout",
          "text": [
            "Enter your age: 20\n",
            "Ticket price is $7\n"
          ]
        }
      ]
    },
    {
      "cell_type": "code",
      "source": [],
      "metadata": {
        "id": "rHkuJFKpw50-"
      },
      "execution_count": null,
      "outputs": []
    },
    {
      "cell_type": "markdown",
      "source": [
        "Print the following pattern."
      ],
      "metadata": {
        "id": "8pN8k8D6UKsv"
      }
    },
    {
      "cell_type": "code",
      "source": [
        "for i in range(1,6):\n",
        "  print(\"* * * * *\")"
      ],
      "metadata": {
        "colab": {
          "base_uri": "https://localhost:8080/"
        },
        "id": "i2v_N6OEUU7e",
        "outputId": "ef18778c-42be-4df8-c813-3cc6aa16c3c2"
      },
      "execution_count": 96,
      "outputs": [
        {
          "output_type": "stream",
          "name": "stdout",
          "text": [
            "* * * * *\n",
            "* * * * *\n",
            "* * * * *\n",
            "* * * * *\n",
            "* * * * *\n"
          ]
        }
      ]
    },
    {
      "cell_type": "code",
      "source": [
        "for i in range(1,6):\n",
        "  print(\"1 2 3 4 5\")"
      ],
      "metadata": {
        "colab": {
          "base_uri": "https://localhost:8080/"
        },
        "id": "BEdMN-jfUsfl",
        "outputId": "9ef2c402-9742-4726-fbee-3a0b486df0c4"
      },
      "execution_count": 95,
      "outputs": [
        {
          "output_type": "stream",
          "name": "stdout",
          "text": [
            "1 2 3 4 5\n",
            "1 2 3 4 5\n",
            "1 2 3 4 5\n",
            "1 2 3 4 5\n",
            "1 2 3 4 5\n"
          ]
        }
      ]
    },
    {
      "cell_type": "code",
      "source": [
        "for i in range(5):\n",
        "  for j in range(1,6):\n",
        "    print(j, end=\"\")\n",
        "  print()\n"
      ],
      "metadata": {
        "colab": {
          "base_uri": "https://localhost:8080/"
        },
        "id": "Ovfj6MFyZOvs",
        "outputId": "0c7fd2c6-2a31-431a-b742-81385bde9acf"
      },
      "execution_count": 108,
      "outputs": [
        {
          "output_type": "stream",
          "name": "stdout",
          "text": [
            "12345\n",
            "12345\n",
            "12345\n",
            "12345\n",
            "12345\n"
          ]
        }
      ]
    },
    {
      "cell_type": "code",
      "source": [
        "for i in range(5):\n",
        "  for j in range(5,0,-1):\n",
        "    print(j, end=\"\")\n",
        "  print()"
      ],
      "metadata": {
        "colab": {
          "base_uri": "https://localhost:8080/"
        },
        "id": "QcquiCwJiq6U",
        "outputId": "53990282-f4b0-4ed9-fad6-f1b3c1179393"
      },
      "execution_count": 118,
      "outputs": [
        {
          "output_type": "stream",
          "name": "stdout",
          "text": [
            "54321\n",
            "54321\n",
            "54321\n",
            "54321\n",
            "54321\n"
          ]
        }
      ]
    },
    {
      "cell_type": "code",
      "source": [
        "for i in range(1,6):\n",
        "  print(i,i,i,i,i)"
      ],
      "metadata": {
        "colab": {
          "base_uri": "https://localhost:8080/"
        },
        "id": "hgCr0eZIWJ3q",
        "outputId": "3ebc1e4d-ddc5-4427-d70f-c18f61f3ad84"
      },
      "execution_count": 104,
      "outputs": [
        {
          "output_type": "stream",
          "name": "stdout",
          "text": [
            "1 1 1 1 1\n",
            "2 2 2 2 2\n",
            "3 3 3 3 3\n",
            "4 4 4 4 4\n",
            "5 5 5 5 5\n"
          ]
        }
      ]
    },
    {
      "cell_type": "code",
      "source": [
        "for i in range(1,6):\n",
        "  for j in range(5):\n",
        "    print(i, end=\"\")\n",
        "  print()"
      ],
      "metadata": {
        "colab": {
          "base_uri": "https://localhost:8080/"
        },
        "id": "2SWte1Z6jU4Y",
        "outputId": "2f26f11c-42d7-4441-bced-a32f00f491c5"
      },
      "execution_count": 123,
      "outputs": [
        {
          "output_type": "stream",
          "name": "stdout",
          "text": [
            "11111\n",
            "22222\n",
            "33333\n",
            "44444\n",
            "55555\n"
          ]
        }
      ]
    },
    {
      "cell_type": "code",
      "source": [
        "for i in range(5,0,-1):\n",
        "  for j in range(5):\n",
        "    print(i, end=\"\")\n",
        "\n",
        "  print()"
      ],
      "metadata": {
        "colab": {
          "base_uri": "https://localhost:8080/"
        },
        "id": "OsYRNRPJiPxD",
        "outputId": "1667488c-45a4-44d5-ef81-44e3218c3304"
      },
      "execution_count": 124,
      "outputs": [
        {
          "output_type": "stream",
          "name": "stdout",
          "text": [
            "55555\n",
            "44444\n",
            "33333\n",
            "22222\n",
            "11111\n"
          ]
        }
      ]
    },
    {
      "cell_type": "code",
      "source": [
        "number=int(input(\"Enter any number: \"))\n",
        "\n",
        "for i in range(1,number+1):\n",
        "  for j in range(number):\n",
        "    print(i, end=\"\")\n",
        "  print()"
      ],
      "metadata": {
        "colab": {
          "base_uri": "https://localhost:8080/"
        },
        "id": "uJ-YgeI4j4aT",
        "outputId": "19f767e7-a8f4-4089-c8fb-c4010850cc0a"
      },
      "execution_count": 126,
      "outputs": [
        {
          "output_type": "stream",
          "name": "stdout",
          "text": [
            "Enter any number: 6\n",
            "111111\n",
            "222222\n",
            "333333\n",
            "444444\n",
            "555555\n",
            "666666\n"
          ]
        }
      ]
    },
    {
      "cell_type": "code",
      "source": [
        "number=int(input(\"Enter any number: \"))\n",
        "\n",
        "for i in range(number+1, 0, -1):\n",
        "  for j in range(number):\n",
        "    print(i, end=\"\")\n",
        "  print()"
      ],
      "metadata": {
        "colab": {
          "base_uri": "https://localhost:8080/"
        },
        "id": "hD20DZ12kZ22",
        "outputId": "0edc50e9-ded8-4694-c75f-0a2eac90ba94"
      },
      "execution_count": 127,
      "outputs": [
        {
          "output_type": "stream",
          "name": "stdout",
          "text": [
            "Enter any number: 5\n",
            "66666\n",
            "55555\n",
            "44444\n",
            "33333\n",
            "22222\n",
            "11111\n"
          ]
        }
      ]
    },
    {
      "cell_type": "code",
      "source": [],
      "metadata": {
        "id": "RUE7Etkmlux5"
      },
      "execution_count": null,
      "outputs": []
    },
    {
      "cell_type": "markdown",
      "source": [
        "#Print even numbers between 1 to 20\n",
        "\n"
      ],
      "metadata": {
        "id": "Z2_VNhQ5lvHN"
      }
    },
    {
      "cell_type": "code",
      "source": [
        "i = 2\n",
        "while i <= 10:\n",
        "  if i % 2 == 0:\n",
        "    print(i)\n",
        "    i = i + 2"
      ],
      "metadata": {
        "colab": {
          "base_uri": "https://localhost:8080/"
        },
        "id": "D6HMuXbIlyXN",
        "outputId": "9e085573-5533-4524-c0ba-27c54641f752"
      },
      "execution_count": 157,
      "outputs": [
        {
          "output_type": "stream",
          "name": "stdout",
          "text": [
            "2\n",
            "4\n",
            "6\n",
            "8\n",
            "10\n"
          ]
        }
      ]
    },
    {
      "cell_type": "code",
      "source": [
        "i=1\n",
        "while i <= 10:\n",
        "  if i % 2 == 0:\n",
        "    print(i)\n",
        "  i = i + 1"
      ],
      "metadata": {
        "colab": {
          "base_uri": "https://localhost:8080/"
        },
        "id": "LrLYuaGQncRg",
        "outputId": "5a0cd7d2-a3c9-416a-9a69-06a76d84d9e5"
      },
      "execution_count": 159,
      "outputs": [
        {
          "output_type": "stream",
          "name": "stdout",
          "text": [
            "2\n",
            "4\n",
            "6\n",
            "8\n",
            "10\n"
          ]
        }
      ]
    },
    {
      "cell_type": "code",
      "source": [
        "for i in range(2,11,2):\n",
        "  print(i)"
      ],
      "metadata": {
        "colab": {
          "base_uri": "https://localhost:8080/"
        },
        "id": "Iv_5FWchmxwr",
        "outputId": "52e10e5c-d32d-474c-9904-b8bdee507a70"
      },
      "execution_count": 156,
      "outputs": [
        {
          "output_type": "stream",
          "name": "stdout",
          "text": [
            "2\n",
            "4\n",
            "6\n",
            "8\n",
            "10\n"
          ]
        }
      ]
    },
    {
      "cell_type": "code",
      "source": [
        "for i in range(1,6):\n",
        "  for j in range(1,i+1):\n",
        "    print(j, end=\"\")\n",
        "  print()"
      ],
      "metadata": {
        "colab": {
          "base_uri": "https://localhost:8080/"
        },
        "id": "NR965DXEkjU2",
        "outputId": "5244da7b-09dc-4e35-9b69-71ae040e69a1"
      },
      "execution_count": 140,
      "outputs": [
        {
          "output_type": "stream",
          "name": "stdout",
          "text": [
            "1\n",
            "12\n",
            "123\n",
            "1234\n",
            "12345\n"
          ]
        }
      ]
    },
    {
      "cell_type": "code",
      "source": [
        "for i in range(1,6):\n",
        "  for j in range(1,i+1):\n",
        "    print(i, end=\"\")\n",
        "  print()"
      ],
      "metadata": {
        "colab": {
          "base_uri": "https://localhost:8080/"
        },
        "id": "vEUBOVZTCL_F",
        "outputId": "154b7bc2-a7f1-49f0-c708-0fe67cedbeae"
      },
      "execution_count": 12,
      "outputs": [
        {
          "output_type": "stream",
          "name": "stdout",
          "text": [
            "1\n",
            "22\n",
            "333\n",
            "4444\n",
            "55555\n"
          ]
        }
      ]
    },
    {
      "cell_type": "code",
      "source": [
        "for i in range(1,6):\n",
        "  for j in range(i,0,-1):\n",
        "    print(j,end=\"\")\n",
        "  print()"
      ],
      "metadata": {
        "colab": {
          "base_uri": "https://localhost:8080/"
        },
        "id": "VCzySZ6yDBOj",
        "outputId": "0f2421c9-9d06-4281-ba30-0de4ccd1781e"
      },
      "execution_count": 22,
      "outputs": [
        {
          "output_type": "stream",
          "name": "stdout",
          "text": [
            "1\n",
            "21\n",
            "321\n",
            "4321\n",
            "54321\n"
          ]
        }
      ]
    },
    {
      "cell_type": "code",
      "source": [
        "for i in range(5,0,-1):\n",
        "  for j in range(5,i-1,-1):\n",
        "    print(j,end=\"\")\n",
        "  print()"
      ],
      "metadata": {
        "colab": {
          "base_uri": "https://localhost:8080/"
        },
        "id": "p88arOniEpia",
        "outputId": "ea5d82ad-0b84-4d30-8bef-a5e3d7362692"
      },
      "execution_count": 64,
      "outputs": [
        {
          "output_type": "stream",
          "name": "stdout",
          "text": [
            "5\n",
            "54\n",
            "543\n",
            "5432\n",
            "54321\n"
          ]
        }
      ]
    },
    {
      "cell_type": "code",
      "source": [
        "for i in range(5,0,-1):\n",
        "  for j in range(5,i-1,-1):\n",
        "    print(i,end=\"\")\n",
        "  print()"
      ],
      "metadata": {
        "colab": {
          "base_uri": "https://localhost:8080/"
        },
        "id": "iwTwj1XTIidL",
        "outputId": "1e218dd3-d464-4ae2-a529-cb5e66d12d5d"
      },
      "execution_count": 65,
      "outputs": [
        {
          "output_type": "stream",
          "name": "stdout",
          "text": [
            "5\n",
            "44\n",
            "333\n",
            "2222\n",
            "11111\n"
          ]
        }
      ]
    },
    {
      "cell_type": "code",
      "source": [
        "for i in range(5,0,-1):\n",
        "  for j in range(5,i-1,-1):\n",
        "    print(\"*\",end=\"\")\n",
        "  print()"
      ],
      "metadata": {
        "colab": {
          "base_uri": "https://localhost:8080/"
        },
        "id": "WVkYYHUxIyxJ",
        "outputId": "d5e58eba-9301-4190-a3b5-f9731367faa2"
      },
      "execution_count": 70,
      "outputs": [
        {
          "output_type": "stream",
          "name": "stdout",
          "text": [
            "*\n",
            "**\n",
            "***\n",
            "****\n",
            "*****\n"
          ]
        }
      ]
    },
    {
      "cell_type": "code",
      "source": [
        "for i in range(1,6):\n",
        "  for j in range(5,i-1,-1):\n",
        "    print(j, end=\"\")\n",
        "  print()"
      ],
      "metadata": {
        "colab": {
          "base_uri": "https://localhost:8080/"
        },
        "id": "Dj4SnmfmWtF4",
        "outputId": "ba0582be-31a3-490d-fdf4-493d62f0bde4"
      },
      "execution_count": 84,
      "outputs": [
        {
          "output_type": "stream",
          "name": "stdout",
          "text": [
            "54321\n",
            "5432\n",
            "543\n",
            "54\n",
            "5\n"
          ]
        }
      ]
    },
    {
      "cell_type": "code",
      "source": [
        "for i in range(5,0,-1):\n",
        "  for j in range(1,i+1):\n",
        "    print(i, end=\"\")\n",
        "  print()"
      ],
      "metadata": {
        "colab": {
          "base_uri": "https://localhost:8080/"
        },
        "id": "ong4cU1ZZRG0",
        "outputId": "8de3f9f1-e451-43f9-a027-40dfef2cdaa7"
      },
      "execution_count": 90,
      "outputs": [
        {
          "output_type": "stream",
          "name": "stdout",
          "text": [
            "55555\n",
            "4444\n",
            "333\n",
            "22\n",
            "1\n"
          ]
        }
      ]
    },
    {
      "cell_type": "code",
      "source": [
        "for i in range(5,0,-1):\n",
        "  for j in range(i,0,-1):\n",
        "    print(j, end=\"\")\n",
        "  print()"
      ],
      "metadata": {
        "colab": {
          "base_uri": "https://localhost:8080/"
        },
        "id": "yqJIfIWJZ6ZZ",
        "outputId": "b568bfc6-4d57-4b9a-ae87-13ff9a46b378"
      },
      "execution_count": 101,
      "outputs": [
        {
          "output_type": "stream",
          "name": "stdout",
          "text": [
            "54321\n",
            "4321\n",
            "321\n",
            "21\n",
            "1\n"
          ]
        }
      ]
    },
    {
      "cell_type": "code",
      "source": [
        "count = 1\n",
        "\n",
        "for i in range(1, 6):  # Rows from 1 to 5\n",
        "    for j in range(i):\n",
        "        if count <= 15:\n",
        "            print(count, end=\" \")\n",
        "            count += 1\n",
        "    print()\n"
      ],
      "metadata": {
        "colab": {
          "base_uri": "https://localhost:8080/"
        },
        "id": "bjpOCzjQbVJQ",
        "outputId": "68fa9154-d0fd-421d-f117-a2e39e185c6d"
      },
      "execution_count": 108,
      "outputs": [
        {
          "output_type": "stream",
          "name": "stdout",
          "text": [
            "1 \n",
            "2 3 \n",
            "4 5 6 \n",
            "7 8 9 10 \n",
            "11 12 13 14 15 \n"
          ]
        }
      ]
    },
    {
      "cell_type": "markdown",
      "source": [
        "##Advanced Nested LOop"
      ],
      "metadata": {
        "id": "0NLc-xgLdTOU"
      }
    },
    {
      "cell_type": "code",
      "source": [
        "for i in range(1,6):\n",
        "  for j in range(5):\n",
        "    print(\"*\", end=\" \")\n",
        "  print()"
      ],
      "metadata": {
        "colab": {
          "base_uri": "https://localhost:8080/"
        },
        "id": "oaJ1SbP0dX7q",
        "outputId": "182e2c77-b427-4417-a1eb-435f20230f93"
      },
      "execution_count": 118,
      "outputs": [
        {
          "output_type": "stream",
          "name": "stdout",
          "text": [
            "* * * * * \n",
            "* * * * * \n",
            "* * * * * \n",
            "* * * * * \n",
            "* * * * * \n"
          ]
        }
      ]
    },
    {
      "cell_type": "code",
      "source": [
        "for i in range(6,0,-1):\n",
        "  for j in range(1,i-1):\n",
        "    print(\"@\", end=\" \")\n",
        "  print()"
      ],
      "metadata": {
        "colab": {
          "base_uri": "https://localhost:8080/"
        },
        "id": "f7rMY6Xre1M6",
        "outputId": "b0276c0a-c39e-4a71-c51a-bd74ebbe14ab"
      },
      "execution_count": 127,
      "outputs": [
        {
          "output_type": "stream",
          "name": "stdout",
          "text": [
            "@ @ @ @ \n",
            "@ @ @ \n",
            "@ @ \n",
            "@ \n",
            "\n",
            "\n"
          ]
        }
      ]
    },
    {
      "cell_type": "code",
      "source": [
        "for i in range(1,6):\n",
        "  for j in range(i,5):\n",
        "    print(\" \", end=\" \")\n",
        "\n",
        "  for k in range(1, i+1):\n",
        "    print(\"*\", end=\" \")\n",
        "  print()"
      ],
      "metadata": {
        "colab": {
          "base_uri": "https://localhost:8080/"
        },
        "id": "eUEm6yQrfuMm",
        "outputId": "d49ccb86-b028-43bf-aaf7-f34faa892a12"
      },
      "execution_count": 130,
      "outputs": [
        {
          "output_type": "stream",
          "name": "stdout",
          "text": [
            "        * \n",
            "      * * \n",
            "    * * * \n",
            "  * * * * \n",
            "* * * * * \n"
          ]
        }
      ]
    },
    {
      "cell_type": "code",
      "source": [
        "for i in range(1,6):\n",
        "  for j in range(i,5):\n",
        "    print(\" \", end=\" \")\n",
        "\n",
        "  for k in range(1, i+1):\n",
        "    print(k, end=\" \")\n",
        "  print()"
      ],
      "metadata": {
        "colab": {
          "base_uri": "https://localhost:8080/"
        },
        "id": "vO8Q_7Wlg02t",
        "outputId": "0029e4a6-8c41-460c-a224-552b299685c2"
      },
      "execution_count": 131,
      "outputs": [
        {
          "output_type": "stream",
          "name": "stdout",
          "text": [
            "        1 \n",
            "      1 2 \n",
            "    1 2 3 \n",
            "  1 2 3 4 \n",
            "1 2 3 4 5 \n"
          ]
        }
      ]
    },
    {
      "cell_type": "code",
      "source": [
        "for i in range(1,6):\n",
        "  for j in range(i,5):\n",
        "    print(\" \", end=\" \")\n",
        "\n",
        "  for k in range(i,i+1):\n",
        "    print(k, end=\" \")\n",
        "\n",
        "  print()"
      ],
      "metadata": {
        "colab": {
          "base_uri": "https://localhost:8080/"
        },
        "id": "Z7Azgq5OjrUG",
        "outputId": "6afb3171-b86c-4b2c-ee9e-073487a7746b"
      },
      "execution_count": 138,
      "outputs": [
        {
          "output_type": "stream",
          "name": "stdout",
          "text": [
            "        1 \n",
            "      2 \n",
            "    3 \n",
            "  4 \n",
            "5 \n"
          ]
        }
      ]
    },
    {
      "cell_type": "markdown",
      "source": [
        "#While loop"
      ],
      "metadata": {
        "id": "t2EWXFVrw6ND"
      }
    },
    {
      "cell_type": "markdown",
      "source": [
        "Ask a number from user. Print all the numbers from 1 to that number."
      ],
      "metadata": {
        "id": "8TMpofuaw8rZ"
      }
    },
    {
      "cell_type": "code",
      "source": [
        "number=int(input(\"Enter any number: \"))\n",
        "\n",
        "i=1\n",
        "\n",
        "while i <= number:\n",
        "  print(i)\n",
        "  i=i+1"
      ],
      "metadata": {
        "colab": {
          "base_uri": "https://localhost:8080/"
        },
        "id": "Cf6b4zC2w77z",
        "outputId": "92bc32e9-ac21-48a1-f575-f84f40ac5c0e"
      },
      "execution_count": 39,
      "outputs": [
        {
          "output_type": "stream",
          "name": "stdout",
          "text": [
            "Enter any number: 10\n",
            "1\n",
            "2\n",
            "3\n",
            "4\n",
            "5\n",
            "6\n",
            "7\n",
            "8\n",
            "9\n",
            "10\n"
          ]
        }
      ]
    },
    {
      "cell_type": "code",
      "source": [],
      "metadata": {
        "id": "i4E6NJhGzEPZ"
      },
      "execution_count": null,
      "outputs": []
    },
    {
      "cell_type": "markdown",
      "source": [
        "Ask a number (N) from user. Print all the numbers from N to 1."
      ],
      "metadata": {
        "id": "2sBD1QkfzEjy"
      }
    },
    {
      "cell_type": "code",
      "source": [
        "number=int(input(\"Enter a number: \"))\n",
        "\n",
        "i = number\n",
        "while i >= 1:\n",
        "  print(i)\n",
        "  i=i-1"
      ],
      "metadata": {
        "colab": {
          "base_uri": "https://localhost:8080/"
        },
        "id": "eHNqpgAZzE37",
        "outputId": "bbdeb8b7-a46c-47d3-8132-7a9b33bb4bf1"
      },
      "execution_count": 45,
      "outputs": [
        {
          "output_type": "stream",
          "name": "stdout",
          "text": [
            "Enter a number: 9\n",
            "9\n",
            "8\n",
            "7\n",
            "6\n",
            "5\n",
            "4\n",
            "3\n",
            "2\n",
            "1\n"
          ]
        }
      ]
    },
    {
      "cell_type": "code",
      "source": [],
      "metadata": {
        "id": "6SVBQqWBzwV-"
      },
      "execution_count": null,
      "outputs": []
    },
    {
      "cell_type": "markdown",
      "source": [
        "Ask start number and end number from user. Print all the numbers\n",
        "from start to end using while loop."
      ],
      "metadata": {
        "id": "MnBvv9rBzwrG"
      }
    },
    {
      "cell_type": "code",
      "source": [
        "start_num=int(input(\"Enter start number: \"))\n",
        "end_num=int(input(\"Enter end number: \"))\n",
        "\n",
        "i = start_num\n",
        "\n",
        "while i <= end_num:\n",
        "  print(i)\n",
        "  i=i+1"
      ],
      "metadata": {
        "colab": {
          "base_uri": "https://localhost:8080/"
        },
        "id": "X0o7DTv-zxAx",
        "outputId": "893327dc-55a0-4cd8-a254-7b95c4246f57"
      },
      "execution_count": 49,
      "outputs": [
        {
          "output_type": "stream",
          "name": "stdout",
          "text": [
            "Enter start number: 5\n",
            "Enter end number: 10\n",
            "5\n",
            "6\n",
            "7\n",
            "8\n",
            "9\n",
            "10\n"
          ]
        }
      ]
    },
    {
      "cell_type": "code",
      "source": [
        "start_num=int(input(\"Enter start number: \"))\n",
        "end_num=int(input(\"Enter end number: \"))\n",
        "\n",
        "i = start_num\n",
        "\n",
        "if start_num < end_num:\n",
        "  while i <= end_num:\n",
        "    print(i)\n",
        "    i=i+1\n",
        "elif end_num < start_num:\n",
        "  while i >= end_num:\n",
        "    print(i)\n",
        "    i=i-1\n",
        "else:\n",
        "  print(start_num)"
      ],
      "metadata": {
        "colab": {
          "base_uri": "https://localhost:8080/"
        },
        "id": "greM1asE0Mgo",
        "outputId": "88793d51-5574-4fbf-fdd1-51075e28e3e9"
      },
      "execution_count": 58,
      "outputs": [
        {
          "output_type": "stream",
          "name": "stdout",
          "text": [
            "Enter start number: 3\n",
            "Enter end number: -2\n",
            "3\n",
            "2\n",
            "1\n",
            "0\n",
            "-1\n",
            "-2\n"
          ]
        }
      ]
    },
    {
      "cell_type": "code",
      "source": [],
      "metadata": {
        "id": "Vt2l-kHV1NS7"
      },
      "execution_count": null,
      "outputs": []
    },
    {
      "cell_type": "markdown",
      "source": [
        "Calculate the sum of all the numbers from 1 to 10."
      ],
      "metadata": {
        "id": "TXRxqgU51NlA"
      }
    },
    {
      "cell_type": "code",
      "source": [
        "i = 1\n",
        "\n",
        "while i <= 10:\n",
        "  print(i)\n",
        "  i=i+i"
      ],
      "metadata": {
        "colab": {
          "base_uri": "https://localhost:8080/"
        },
        "id": "Z6FhXc4I1RDM",
        "outputId": "61da677a-a252-46c8-a75b-245627f0c3a2"
      },
      "execution_count": 62,
      "outputs": [
        {
          "output_type": "stream",
          "name": "stdout",
          "text": [
            "1\n",
            "2\n",
            "4\n",
            "8\n"
          ]
        }
      ]
    },
    {
      "cell_type": "code",
      "source": [
        "i = 1\n",
        "sum_of_numbers = 0\n",
        "\n",
        "while i <= 10:\n",
        "    sum_of_numbers += i\n",
        "    i += 1\n",
        "\n",
        "print(\"The sum of numbers from 1 to 10 is:\", sum_of_numbers)\n"
      ],
      "metadata": {
        "colab": {
          "base_uri": "https://localhost:8080/"
        },
        "id": "QAt9QoZc2qTs",
        "outputId": "b43fd4e1-fa18-4c44-aefa-6d07f2da7e20"
      },
      "execution_count": 63,
      "outputs": [
        {
          "output_type": "stream",
          "name": "stdout",
          "text": [
            "The sum of numbers from 1 to 10 is: 55\n"
          ]
        }
      ]
    },
    {
      "cell_type": "code",
      "source": [],
      "metadata": {
        "id": "87EWbs_63DMg"
      },
      "execution_count": null,
      "outputs": []
    },
    {
      "cell_type": "markdown",
      "source": [
        "Calculate product of all the numbers from 1 to 10."
      ],
      "metadata": {
        "id": "reJHePDz3Djj"
      }
    },
    {
      "cell_type": "code",
      "source": [],
      "metadata": {
        "id": "y49ORY-s3How"
      },
      "execution_count": null,
      "outputs": []
    },
    {
      "cell_type": "markdown",
      "source": [
        "Calculate how many numbers are divisible by 7 from 1 to 100."
      ],
      "metadata": {
        "id": "F89n1qWk3RhW"
      }
    },
    {
      "cell_type": "code",
      "source": [
        "i = 1\n",
        "count = 0\n",
        "\n",
        "while i <= 100:\n",
        "  if i % 7 == 0:\n",
        "    count = count+1\n",
        "  i = i + 1\n",
        "print(count)"
      ],
      "metadata": {
        "colab": {
          "base_uri": "https://localhost:8080/"
        },
        "id": "batMHJxD3R9B",
        "outputId": "bd3279ad-8466-4ece-c6a7-578e45b6b425"
      },
      "execution_count": 70,
      "outputs": [
        {
          "output_type": "stream",
          "name": "stdout",
          "text": [
            "14\n"
          ]
        }
      ]
    },
    {
      "cell_type": "code",
      "source": [],
      "metadata": {
        "id": "nHKB5YU-4kb6"
      },
      "execution_count": null,
      "outputs": []
    },
    {
      "cell_type": "markdown",
      "source": [
        "Calculate how many numbers are divisible by both 6 and 7 between 1\n",
        "to 200."
      ],
      "metadata": {
        "id": "RmkSAK5x4nx5"
      }
    },
    {
      "cell_type": "code",
      "source": [
        "i=1\n",
        "count=0\n",
        "\n",
        "while i <= 200:\n",
        "  if i % 6 == 0 and i % 7 == 0:\n",
        "    print(f\"{i} is divisible by both 6 and 7\")\n",
        "    count = count + 1\n",
        "  i=i+1\n",
        "\n",
        "print(f\"\\nTotal numbers divisible by both 6 and 7 are {count}\")"
      ],
      "metadata": {
        "colab": {
          "base_uri": "https://localhost:8080/"
        },
        "id": "s1sMtlKd4oJf",
        "outputId": "c779efa1-caaa-4448-a54b-8fa750380b01"
      },
      "execution_count": 79,
      "outputs": [
        {
          "output_type": "stream",
          "name": "stdout",
          "text": [
            "42 is divisible by both 6 and 7\n",
            "84 is divisible by both 6 and 7\n",
            "126 is divisible by both 6 and 7\n",
            "168 is divisible by both 6 and 7\n",
            "\n",
            "Total numbers divisible by both 6 and 7 are 4\n"
          ]
        }
      ]
    },
    {
      "cell_type": "code",
      "source": [],
      "metadata": {
        "id": "rNL92PgD5UU0"
      },
      "execution_count": null,
      "outputs": []
    },
    {
      "cell_type": "markdown",
      "source": [
        "Write a program to calculate the sum of all the numbers divisible by 4\n",
        "from 20 to 50."
      ],
      "metadata": {
        "id": "CGRQN1FX5UjU"
      }
    },
    {
      "cell_type": "code",
      "source": [
        "i=20\n",
        "count=0\n",
        "\n",
        "while i <=50:\n",
        "  if i % 4 == 0:\n",
        "    print(i)\n",
        "    count = count + i\n",
        "\n",
        "  i = i+1\n",
        "\n",
        "print(count)"
      ],
      "metadata": {
        "colab": {
          "base_uri": "https://localhost:8080/"
        },
        "id": "vFakVQPS5Vtw",
        "outputId": "13eb294e-c95a-4f28-e08f-4a959bffe20d"
      },
      "execution_count": 84,
      "outputs": [
        {
          "output_type": "stream",
          "name": "stdout",
          "text": [
            "20\n",
            "24\n",
            "28\n",
            "32\n",
            "36\n",
            "40\n",
            "44\n",
            "48\n",
            "272\n"
          ]
        }
      ]
    },
    {
      "cell_type": "code",
      "source": [],
      "metadata": {
        "id": "KlfGGzJa73_w"
      },
      "execution_count": null,
      "outputs": []
    },
    {
      "cell_type": "markdown",
      "source": [
        "Ask a number from user. Print the multiplication table of that number."
      ],
      "metadata": {
        "id": "XLIIVU0P78nI"
      }
    },
    {
      "cell_type": "code",
      "source": [
        "number=int(input(\"Enter any number: \"))\n",
        "\n",
        "i = 1\n",
        "\n",
        "while i <= 10:\n",
        "  print(f\"{number} * {i} = {number * i}\")\n",
        "  i = i + 1"
      ],
      "metadata": {
        "colab": {
          "base_uri": "https://localhost:8080/"
        },
        "id": "XAL1IXJM787z",
        "outputId": "4ab7336f-69c9-44b8-a047-cf6757c497d2"
      },
      "execution_count": 86,
      "outputs": [
        {
          "output_type": "stream",
          "name": "stdout",
          "text": [
            "Enter any number: 10\n",
            "10 * 1 = 10\n",
            "10 * 2 = 20\n",
            "10 * 3 = 30\n",
            "10 * 4 = 40\n",
            "10 * 5 = 50\n",
            "10 * 6 = 60\n",
            "10 * 7 = 70\n",
            "10 * 8 = 80\n",
            "10 * 9 = 90\n",
            "10 * 10 = 100\n"
          ]
        }
      ]
    },
    {
      "cell_type": "code",
      "source": [],
      "metadata": {
        "id": "aZW09xOL8rIC"
      },
      "execution_count": null,
      "outputs": []
    },
    {
      "cell_type": "markdown",
      "source": [
        "Ask to numbers x and y from the user. If x<y then print all the\n",
        "numbers from x to y, but if y<x then print all the numbers from y to x."
      ],
      "metadata": {
        "id": "ImCLO8BF8usu"
      }
    },
    {
      "cell_type": "code",
      "source": [
        "x=int(input(\"Enter 1st number: \"))\n",
        "y=int(input(\"Enter 2nd number: \"))\n",
        "\n",
        "if x<y:\n",
        "  while x <= y:\n",
        "    print(x)\n",
        "    x=x+1\n",
        "\n",
        "elif y<x:\n",
        "  while y<=x:\n",
        "    print(y)\n",
        "    y=y+1"
      ],
      "metadata": {
        "colab": {
          "base_uri": "https://localhost:8080/"
        },
        "id": "wTy4RjTx8vQ0",
        "outputId": "78be25ab-9791-416d-b2a1-f8f6c07765ce"
      },
      "execution_count": 91,
      "outputs": [
        {
          "output_type": "stream",
          "name": "stdout",
          "text": [
            "Enter 1st number: 5\n",
            "Enter 2nd number: 10\n",
            "5\n",
            "6\n",
            "7\n",
            "8\n",
            "9\n",
            "10\n"
          ]
        }
      ]
    }
  ],
  "metadata": {
    "colab": {
      "provenance": []
    },
    "kernelspec": {
      "display_name": "Python 3",
      "name": "python3"
    }
  },
  "nbformat": 4,
  "nbformat_minor": 0
}