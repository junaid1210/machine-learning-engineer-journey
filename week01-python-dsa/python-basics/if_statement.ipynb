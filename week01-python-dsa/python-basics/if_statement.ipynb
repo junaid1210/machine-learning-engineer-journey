{
  "cells": [
    {
      "cell_type": "markdown",
      "source": [
        "#if statement"
      ],
      "metadata": {
        "id": "v0SmeJgxI07b"
      }
    },
    {
      "cell_type": "code",
      "source": [
        "number=input(\"Enter the number: \")\n",
        "number=int(number)\n",
        "\n",
        "if number%2 == 0:\n",
        "  print(number,\"is evevn\")\n",
        "else:\n",
        "  print(number,\"is odd\")"
      ],
      "metadata": {
        "id": "SO46vaA6LUz2",
        "outputId": "056ec0e3-5698-4f83-d285-d96229d08a1e",
        "colab": {
          "base_uri": "https://localhost:8080/"
        }
      },
      "execution_count": null,
      "outputs": [
        {
          "output_type": "stream",
          "name": "stdout",
          "text": [
            "Enter the number: 223\n",
            "223 is odd\n"
          ]
        }
      ]
    },
    {
      "cell_type": "code",
      "source": [
        "pakistani=[\"biryani\", \"daal\", \"kheer\"]\n",
        "chinees=[\"fried rice\", \"pasta\", \"soup\"]\n",
        "italian=[\"sauce\", \"butter\"]\n",
        "\n",
        "cousine=input(\"Name the cousine? \")\n",
        "\n",
        "if cousine in pakistani:\n",
        "  print(\"the\", cousine, \"is pakistani\")\n",
        "\n",
        "elif cousine in chinees:\n",
        "  print(\"the\", cousine, \"is chinees\")\n",
        "\n",
        "elif cousine in italian:\n",
        "  print(\"the\", cousine, \"is italian\")\n",
        "\n",
        "else:\n",
        "  print(\"i dont know which cousine is this\")"
      ],
      "metadata": {
        "id": "MINLi1gALUxZ",
        "outputId": "864f8ba7-c365-4395-c283-ecb53601aa46",
        "colab": {
          "base_uri": "https://localhost:8080/"
        }
      },
      "execution_count": null,
      "outputs": [
        {
          "output_type": "stream",
          "name": "stdout",
          "text": [
            "Name the cousine? rabi\n",
            "i dont know which cousine is this\n"
          ]
        }
      ]
    },
    {
      "cell_type": "code",
      "source": [],
      "metadata": {
        "id": "8trSxoZTLUu9"
      },
      "execution_count": null,
      "outputs": []
    },
    {
      "cell_type": "markdown",
      "source": [
        "#Excercises"
      ],
      "metadata": {
        "id": "_WRH3m14OV89"
      }
    },
    {
      "cell_type": "markdown",
      "source": [
        "Exercise: Python If Condition\n",
        "1. Using following list of cities per country,\n",
        "\n",
        "   india = [\"mumbai\", \"banglore\", \"chennai\", \"delhi\"]\n",
        "   pakistan = [\"lahore\",\"karachi\",\"islamabad\"]\n",
        "   bangladesh = [\"dhaka\", \"khulna\", \"rangpur\"]\n",
        "\n",
        "Write a program that asks user to enter a city name and it should tell which country the city belongs to"
      ],
      "metadata": {
        "id": "cC58WdcGOXza"
      }
    },
    {
      "cell_type": "code",
      "source": [
        "pakistan=[\"lahore\",\"karachi\",\"islamabad\"]\n",
        "india=[\"mumbai\", \"bangalore\", \"chennai\"]\n",
        "bangladesh=[\"dhaka\", \"khulna\", \"rangpur\"]\n",
        "\n",
        "count_name=input(\"Name any country: \")\n",
        "if count_name in pakistan:\n",
        "  print(count_name,\"is the city of pakistan\")\n",
        "elif count_name in india:\n",
        "  print(count_name, \"is in indian\")\n",
        "elif count_name in bangladesh:\n",
        "  print(count_name, \"is in bangladesh\")\n",
        "else:\n",
        "  print(count_name, \"is not in any of the lists\")"
      ],
      "metadata": {
        "id": "LG-CeI6fLUsb",
        "colab": {
          "base_uri": "https://localhost:8080/"
        },
        "outputId": "69d94607-2e3c-44a3-e330-892596929c41"
      },
      "execution_count": 3,
      "outputs": [
        {
          "output_type": "stream",
          "name": "stdout",
          "text": [
            "Name any country: quetta\n",
            "quetta is not in any of the lists\n"
          ]
        }
      ]
    },
    {
      "cell_type": "code",
      "source": [],
      "metadata": {
        "id": "TnZZv8IcLUpu"
      },
      "execution_count": null,
      "outputs": []
    },
    {
      "cell_type": "markdown",
      "source": [
        "Exercise: Python If Condition\n",
        "1. Using following list of cities per country,\n",
        "\n",
        "  india = [\"mumbai\", \"banglore\", \"chennai\", \"delhi\"]\n",
        "  pakistan = [\"lahore\",\"karachi\",\"islamabad\"]\n",
        "  bangladesh = [\"dhaka\", \"khulna\", \"rangpur\"]\n",
        "\n",
        "Write a program that asks user to enter two cities and it tells you if they both are in same country or not. For example if I enter mumbai and chennai, it will print \"Both cities are in India\" but if I enter mumbai and dhaka it should print \"They don't belong to same country\"\n"
      ],
      "metadata": {
        "id": "2xT9bkenRAkp"
      }
    },
    {
      "cell_type": "code",
      "source": [
        "pakistan=[\"lahore\",\"karachi\",\"islamabad\"]\n",
        "india=[\"mumbai\", \"bangalore\", \"chennai\"]\n",
        "bangladesh=[\"dhaka\", \"khulna\", \"rangpur\"]\n",
        "\n",
        "city1=input(\"Enter city 1: \")\n",
        "city2=input(\"Enter city 2: \")\n",
        "\n",
        "if city1 and city2 in pakistan:\n",
        "  print(\"both cities are from pakistan\")\n",
        "elif city1 and city2 in india:\n",
        "  print(\"both cities from india\")\n",
        "elif city1 and city2 in bangladesh:\n",
        "  print(\"both cities from bangladesh\")\n",
        "else:\n",
        "  print(city1,\"and\", city2, \"are not from the same country\")"
      ],
      "metadata": {
        "id": "Yb2IK4DFLUnF",
        "colab": {
          "base_uri": "https://localhost:8080/"
        },
        "outputId": "f99331a9-5eb5-43ab-9bf3-c6fec7fcaeb6"
      },
      "execution_count": 6,
      "outputs": [
        {
          "output_type": "stream",
          "name": "stdout",
          "text": [
            "Enter city 1: mumbai\n",
            "Enter city 2: chennai\n",
            "both cities from india\n"
          ]
        }
      ]
    },
    {
      "cell_type": "code",
      "source": [
        "pakistan=[\"lahore\",\"karachi\",\"islamabad\"]\n",
        "india=[\"mumbai\", \"bangalore\", \"chennai\"]\n",
        "bangladesh=[\"dhaka\", \"khulna\", \"rangpur\"]\n",
        "\n",
        "city1=input(\"Enter city 1: \")\n",
        "city2=input(\"Enter city 2: \")\n",
        "\n",
        "if city1 in pakistan and city2 in pakistan:\n",
        "  print(\"both cities are from pakistan\")\n",
        "elif city1 in india and city2 in india:\n",
        "  print(\"both cities from india\")\n",
        "elif city1 in bangladesh and city2 in bangladesh:\n",
        "  print(\"both cities from bangladesh\")\n",
        "else:\n",
        "  print(city1,\"and\", city2, \"are not from the same country\")"
      ],
      "metadata": {
        "id": "YneeNtHFLUkY",
        "colab": {
          "base_uri": "https://localhost:8080/"
        },
        "outputId": "cd8f2bac-ac3c-4555-e34c-9ca765a95518"
      },
      "execution_count": 11,
      "outputs": [
        {
          "output_type": "stream",
          "name": "stdout",
          "text": [
            "Enter city 1: mumbai\n",
            "Enter city 2: karachi\n",
            "mumbai and karachi are not from the same country\n"
          ]
        }
      ]
    },
    {
      "cell_type": "code",
      "source": [],
      "metadata": {
        "id": "DhnjcbnVLUhf"
      },
      "execution_count": null,
      "outputs": []
    },
    {
      "cell_type": "markdown",
      "source": [
        "Exercise: Python If Condition\n",
        " 2. Write a python program that can tell you if your sugar is normal or not. Normal fasting level sugar range is 80 to 100.\n",
        "   1. Ask user to enter his fasting sugar level\n",
        "   2. If it is below 80 to 100 range then print that sugar is low\n",
        "   3. If it is above 100 then print that it is high otherwise print that it is normal"
      ],
      "metadata": {
        "id": "fkme2j2CYHEn"
      }
    },
    {
      "cell_type": "code",
      "source": [
        "sugar_level=float(input(\"Enter your sugar level: \"))\n",
        "if sugar_level < 80:\n",
        "  print(\"Your sugar level is low\")\n",
        "elif sugar_level > 100:\n",
        "  print(\"Your sugar level is high\")\n",
        "else:\n",
        "  print(\"your sugar level is normal\")"
      ],
      "metadata": {
        "id": "VODcVHGqLUfP",
        "colab": {
          "base_uri": "https://localhost:8080/"
        },
        "outputId": "18807600-e0f4-440b-af99-7460e4c8b9fd"
      },
      "execution_count": 19,
      "outputs": [
        {
          "output_type": "stream",
          "name": "stdout",
          "text": [
            "Enter your sugar level: 85\n",
            "your sugar level is normal\n"
          ]
        }
      ]
    },
    {
      "cell_type": "markdown",
      "source": [],
      "metadata": {
        "id": "0ryCmo4pYQwL"
      }
    },
    {
      "cell_type": "code",
      "source": [],
      "metadata": {
        "id": "qPWd2gGFLUc0"
      },
      "execution_count": null,
      "outputs": []
    },
    {
      "cell_type": "code",
      "source": [],
      "metadata": {
        "id": "t4AxR4LoLUZw"
      },
      "execution_count": null,
      "outputs": []
    },
    {
      "cell_type": "code",
      "source": [],
      "metadata": {
        "id": "brsY6sKbLUXb"
      },
      "execution_count": null,
      "outputs": []
    },
    {
      "cell_type": "code",
      "source": [],
      "metadata": {
        "id": "RDNqJB03LUUw"
      },
      "execution_count": null,
      "outputs": []
    }
  ],
  "metadata": {
    "colab": {
      "provenance": []
    },
    "kernelspec": {
      "display_name": "Python 3",
      "name": "python3"
    }
  },
  "nbformat": 4,
  "nbformat_minor": 0
}