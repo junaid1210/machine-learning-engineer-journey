{
  "nbformat": 4,
  "nbformat_minor": 0,
  "metadata": {
    "colab": {
      "provenance": []
    },
    "kernelspec": {
      "name": "python3",
      "display_name": "Python 3"
    },
    "language_info": {
      "name": "python"
    }
  },
  "cells": [
    {
      "cell_type": "markdown",
      "source": [
        "#Operators"
      ],
      "metadata": {
        "id": "RGToLDfKwhF6"
      }
    },
    {
      "cell_type": "markdown",
      "source": [
        "##Arithmetic"
      ],
      "metadata": {
        "id": "UYWyQJ14gar4"
      }
    },
    {
      "cell_type": "markdown",
      "source": [
        "Write a Python program that takes two numbers as input and\n",
        "performs the following operations: addition, subtraction, multiplication,\n",
        "division, and modulus. Display the results."
      ],
      "metadata": {
        "id": "UqYxfhojggtB"
      }
    },
    {
      "cell_type": "code",
      "source": [
        "num1=int(input(\"Enter 1st number: \"))\n",
        "num2=int(input(\"Enter 2nd number: \"))\n",
        "\n",
        "operation=input(\"ENter operation: \\n+ \\n- \\n* \\n/ \\n \")\n",
        "\n",
        "if operation==\"+\":\n",
        "  print(num1 + num2)\n",
        "elif operation==\"-\":\n",
        "  print(num1 - num2)\n",
        "elif operation==\"*\":\n",
        "  print(num1 * num2)\n",
        "elif operation==\"/\":\n",
        "  print(num1 / num2)\n",
        "else:\n",
        "  print(\"Invalid operation\")\n"
      ],
      "metadata": {
        "colab": {
          "base_uri": "https://localhost:8080/"
        },
        "id": "lsVs3bXjgfrs",
        "outputId": "4353f02c-5bdc-4377-c00b-e511b565f41a"
      },
      "execution_count": 4,
      "outputs": [
        {
          "output_type": "stream",
          "name": "stdout",
          "text": [
            "Enter 1st number: 10\n",
            "Enter 2nd number: 10\n",
            "ENter operation: \n",
            "+ \n",
            "- \n",
            "* \n",
            "/ \n",
            " %\n",
            "Invalid operation\n"
          ]
        }
      ]
    },
    {
      "cell_type": "code",
      "source": [],
      "metadata": {
        "id": "geGdO2BYphj8"
      },
      "execution_count": null,
      "outputs": []
    },
    {
      "cell_type": "markdown",
      "source": [
        "Write a Python program to swap the values of two variables without\n",
        "using a temporary variable.\n",
        "\n",
        "> Add blockquote\n",
        "\n"
      ],
      "metadata": {
        "id": "yGnUHqZephxi"
      }
    },
    {
      "cell_type": "code",
      "source": [
        "num1=10\n",
        "num2=20\n",
        "\n",
        "print(num1)\n",
        "print(num2)\n",
        "print()\n",
        "\n",
        "\n",
        "num1=num2=num1\n",
        "\n",
        "print(num1)\n",
        "print(num2)"
      ],
      "metadata": {
        "colab": {
          "base_uri": "https://localhost:8080/"
        },
        "id": "vBbwEdEApkTG",
        "outputId": "18439574-90c1-4e64-821d-6f274f4d8cda"
      },
      "execution_count": 14,
      "outputs": [
        {
          "output_type": "stream",
          "name": "stdout",
          "text": [
            "10\n",
            "20\n",
            "\n",
            "10\n",
            "10\n"
          ]
        }
      ]
    },
    {
      "cell_type": "code",
      "source": [],
      "metadata": {
        "id": "7-BQENohvitU"
      },
      "execution_count": null,
      "outputs": []
    },
    {
      "cell_type": "markdown",
      "source": [
        "Write a Python program that takes the radius of a circle as input and\n",
        "calculates its area. Use the formula: Area = 3.14 * r^2."
      ],
      "metadata": {
        "id": "yCzxiNbRvi-U"
      }
    },
    {
      "cell_type": "code",
      "source": [
        "radius=int(input(\"ENter the radius: \"))\n",
        "\n",
        "area=3.14 * radius**2\n",
        "\n",
        "print(area)\n"
      ],
      "metadata": {
        "colab": {
          "base_uri": "https://localhost:8080/"
        },
        "id": "EmDvVVqYvqh-",
        "outputId": "763c578a-8491-456a-f9b4-b1f2d2f2c052"
      },
      "execution_count": 16,
      "outputs": [
        {
          "output_type": "stream",
          "name": "stdout",
          "text": [
            "ENter the radius: 10\n",
            "314.0\n"
          ]
        }
      ]
    },
    {
      "cell_type": "code",
      "source": [],
      "metadata": {
        "id": "Y3NMHOEOwjzV"
      },
      "execution_count": null,
      "outputs": []
    },
    {
      "cell_type": "markdown",
      "source": [
        "##COMPARISON & LOGICAL"
      ],
      "metadata": {
        "id": "cJsXIqWbwkIG"
      }
    },
    {
      "cell_type": "code",
      "source": [
        "x=5\n",
        "y=3\n",
        "\n",
        "print(x>y)"
      ],
      "metadata": {
        "colab": {
          "base_uri": "https://localhost:8080/"
        },
        "id": "qnq60K86wyV3",
        "outputId": "c5fa48ff-4bc8-4f86-bc02-185e032d6b1b"
      },
      "execution_count": 19,
      "outputs": [
        {
          "output_type": "stream",
          "name": "stdout",
          "text": [
            "True\n"
          ]
        }
      ]
    },
    {
      "cell_type": "code",
      "source": [
        "a=10\n",
        "b=20\n",
        "c=30\n",
        "\n",
        "print(a<b and b<c)"
      ],
      "metadata": {
        "colab": {
          "base_uri": "https://localhost:8080/"
        },
        "id": "8CQCOqtEw66P",
        "outputId": "c99c6e24-7a06-4aaf-9d66-3b5243db355c"
      },
      "execution_count": 20,
      "outputs": [
        {
          "output_type": "stream",
          "name": "stdout",
          "text": [
            "True\n"
          ]
        }
      ]
    },
    {
      "cell_type": "code",
      "source": [
        "p=True\n",
        "q=False\n",
        "\n",
        "print(not p or q)"
      ],
      "metadata": {
        "colab": {
          "base_uri": "https://localhost:8080/"
        },
        "id": "V6ExmNOyxEkG",
        "outputId": "60494652-7200-490d-d54d-d7336a04a752"
      },
      "execution_count": 21,
      "outputs": [
        {
          "output_type": "stream",
          "name": "stdout",
          "text": [
            "False\n"
          ]
        }
      ]
    },
    {
      "cell_type": "code",
      "source": [
        "num=25\n",
        "print(num % 2 == 0)"
      ],
      "metadata": {
        "id": "Ii026tgJxZHU"
      },
      "execution_count": null,
      "outputs": []
    }
  ]
}