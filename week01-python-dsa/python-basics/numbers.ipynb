{
  "cells": [
    {
      "cell_type": "markdown",
      "source": [
        "#Numbers"
      ],
      "metadata": {
        "id": "i8jxQtRIvM0n"
      }
    },
    {
      "cell_type": "code",
      "source": [
        "20 + 50"
      ],
      "metadata": {
        "id": "2v3VqnkhzX6h",
        "outputId": "27908cf6-f3c4-47ed-9c10-96d71a37f454",
        "colab": {
          "base_uri": "https://localhost:8080/"
        }
      },
      "execution_count": null,
      "outputs": [
        {
          "output_type": "execute_result",
          "data": {
            "text/plain": [
              "70"
            ]
          },
          "metadata": {},
          "execution_count": 13
        }
      ]
    },
    {
      "cell_type": "code",
      "source": [
        "20 - 50"
      ],
      "metadata": {
        "id": "k971COa3zX1p",
        "outputId": "16964d3f-0a7c-4537-a51b-6c6498f6eba6",
        "colab": {
          "base_uri": "https://localhost:8080/"
        }
      },
      "execution_count": null,
      "outputs": [
        {
          "output_type": "execute_result",
          "data": {
            "text/plain": [
              "-30"
            ]
          },
          "metadata": {},
          "execution_count": 14
        }
      ]
    },
    {
      "cell_type": "code",
      "source": [
        "50 - 20"
      ],
      "metadata": {
        "id": "87u1hf0wzXwm",
        "outputId": "f817d943-bcac-4349-979b-c9836f15d195",
        "colab": {
          "base_uri": "https://localhost:8080/"
        }
      },
      "execution_count": null,
      "outputs": [
        {
          "output_type": "execute_result",
          "data": {
            "text/plain": [
              "30"
            ]
          },
          "metadata": {},
          "execution_count": 15
        }
      ]
    },
    {
      "cell_type": "code",
      "source": [
        "20 / 30"
      ],
      "metadata": {
        "id": "ZpYuTHJfzXp6",
        "outputId": "b67e2de4-7d5e-4acb-9946-19b8d29d6559",
        "colab": {
          "base_uri": "https://localhost:8080/"
        }
      },
      "execution_count": null,
      "outputs": [
        {
          "output_type": "execute_result",
          "data": {
            "text/plain": [
              "0.6666666666666666"
            ]
          },
          "metadata": {},
          "execution_count": 16
        }
      ]
    },
    {
      "cell_type": "code",
      "source": [
        "30 / 20"
      ],
      "metadata": {
        "id": "gCWWmKTkzXat",
        "outputId": "a98888a7-d53c-47f5-c119-9132ee29f03b",
        "colab": {
          "base_uri": "https://localhost:8080/"
        }
      },
      "execution_count": null,
      "outputs": [
        {
          "output_type": "execute_result",
          "data": {
            "text/plain": [
              "1.5"
            ]
          },
          "metadata": {},
          "execution_count": 17
        }
      ]
    },
    {
      "cell_type": "code",
      "source": [
        "2*7"
      ],
      "metadata": {
        "id": "j8rrva2n1KQN",
        "outputId": "fc4ed939-dfe9-4341-8e06-4e78af170b77",
        "colab": {
          "base_uri": "https://localhost:8080/"
        }
      },
      "execution_count": null,
      "outputs": [
        {
          "output_type": "execute_result",
          "data": {
            "text/plain": [
              "14"
            ]
          },
          "metadata": {},
          "execution_count": 18
        }
      ]
    },
    {
      "cell_type": "code",
      "source": [
        "2**2"
      ],
      "metadata": {
        "id": "GOL41AVG1KKl",
        "outputId": "985ce92c-7b90-413a-c23b-8878948102a1",
        "colab": {
          "base_uri": "https://localhost:8080/"
        }
      },
      "execution_count": null,
      "outputs": [
        {
          "output_type": "execute_result",
          "data": {
            "text/plain": [
              "4"
            ]
          },
          "metadata": {},
          "execution_count": 19
        }
      ]
    },
    {
      "cell_type": "code",
      "source": [
        "2**7"
      ],
      "metadata": {
        "id": "QF79yOlJ1KH5",
        "outputId": "f2ce772e-6d20-4856-ff9a-3b383ad5313e",
        "colab": {
          "base_uri": "https://localhost:8080/"
        }
      },
      "execution_count": null,
      "outputs": [
        {
          "output_type": "execute_result",
          "data": {
            "text/plain": [
              "128"
            ]
          },
          "metadata": {},
          "execution_count": 20
        }
      ]
    },
    {
      "cell_type": "code",
      "source": [
        "2***2"
      ],
      "metadata": {
        "id": "vL48KfRj1KFN",
        "outputId": "82d7570f-a426-4b6e-c7d5-8906c3b82ede",
        "colab": {
          "base_uri": "https://localhost:8080/",
          "height": 110
        }
      },
      "execution_count": null,
      "outputs": [
        {
          "output_type": "error",
          "ename": "SyntaxError",
          "evalue": "invalid syntax (ipython-input-21-4151073847.py, line 1)",
          "traceback": [
            "\u001b[0;36m  File \u001b[0;32m\"/tmp/ipython-input-21-4151073847.py\"\u001b[0;36m, line \u001b[0;32m1\u001b[0m\n\u001b[0;31m    2***2\u001b[0m\n\u001b[0m       ^\u001b[0m\n\u001b[0;31mSyntaxError\u001b[0m\u001b[0;31m:\u001b[0m invalid syntax\n"
          ]
        }
      ]
    },
    {
      "cell_type": "code",
      "source": [
        "2/4"
      ],
      "metadata": {
        "id": "SNJBaU7a1KAL",
        "outputId": "d1ebc7bb-f493-4de0-ab18-0e8d08b2057d",
        "colab": {
          "base_uri": "https://localhost:8080/"
        }
      },
      "execution_count": null,
      "outputs": [
        {
          "output_type": "execute_result",
          "data": {
            "text/plain": [
              "0.5"
            ]
          },
          "metadata": {},
          "execution_count": 22
        }
      ]
    },
    {
      "cell_type": "code",
      "source": [
        "2//4"
      ],
      "metadata": {
        "id": "mSEDZDxX1J9C",
        "outputId": "4595db01-2eb0-4b2d-fe5c-ea6e55ac705b",
        "colab": {
          "base_uri": "https://localhost:8080/"
        }
      },
      "execution_count": null,
      "outputs": [
        {
          "output_type": "execute_result",
          "data": {
            "text/plain": [
              "0"
            ]
          },
          "metadata": {},
          "execution_count": 23
        }
      ]
    },
    {
      "cell_type": "code",
      "source": [
        "2//168"
      ],
      "metadata": {
        "id": "HgB4ibVC1J55",
        "outputId": "66fa2edf-d15a-42a6-9ef5-6ef9150cd825",
        "colab": {
          "base_uri": "https://localhost:8080/"
        }
      },
      "execution_count": null,
      "outputs": [
        {
          "output_type": "execute_result",
          "data": {
            "text/plain": [
              "0"
            ]
          },
          "metadata": {},
          "execution_count": 24
        }
      ]
    },
    {
      "cell_type": "code",
      "source": [
        "3//168"
      ],
      "metadata": {
        "id": "g5yieWac1J2x",
        "outputId": "0b5a131b-cd59-461b-caf7-030750cf787c",
        "colab": {
          "base_uri": "https://localhost:8080/"
        }
      },
      "execution_count": null,
      "outputs": [
        {
          "output_type": "execute_result",
          "data": {
            "text/plain": [
              "0"
            ]
          },
          "metadata": {},
          "execution_count": 25
        }
      ]
    },
    {
      "cell_type": "code",
      "source": [
        "5//168"
      ],
      "metadata": {
        "id": "lqfEy_my1JzK",
        "outputId": "3d1523c9-df2d-45be-a84f-de8401cfa370",
        "colab": {
          "base_uri": "https://localhost:8080/"
        }
      },
      "execution_count": null,
      "outputs": [
        {
          "output_type": "execute_result",
          "data": {
            "text/plain": [
              "0"
            ]
          },
          "metadata": {},
          "execution_count": 26
        }
      ]
    },
    {
      "cell_type": "code",
      "source": [
        "5//9"
      ],
      "metadata": {
        "id": "D2Kxj2rv1Jum",
        "outputId": "fbf167f3-d64d-4be3-9b79-0e73ea997d88",
        "colab": {
          "base_uri": "https://localhost:8080/"
        }
      },
      "execution_count": null,
      "outputs": [
        {
          "output_type": "execute_result",
          "data": {
            "text/plain": [
              "0"
            ]
          },
          "metadata": {},
          "execution_count": 29
        }
      ]
    },
    {
      "cell_type": "code",
      "source": [
        "2%4"
      ],
      "metadata": {
        "id": "YZ38E5gb3t_J",
        "outputId": "8b339122-570f-4812-d2ca-c0a58f768f1d",
        "colab": {
          "base_uri": "https://localhost:8080/"
        }
      },
      "execution_count": null,
      "outputs": [
        {
          "output_type": "execute_result",
          "data": {
            "text/plain": [
              "2"
            ]
          },
          "metadata": {},
          "execution_count": 30
        }
      ]
    },
    {
      "cell_type": "code",
      "source": [
        "2%7"
      ],
      "metadata": {
        "id": "lMYuJFRU3t73",
        "outputId": "d3f19c67-e786-478e-c11a-2c9d33b6d0ff",
        "colab": {
          "base_uri": "https://localhost:8080/"
        }
      },
      "execution_count": null,
      "outputs": [
        {
          "output_type": "execute_result",
          "data": {
            "text/plain": [
              "2"
            ]
          },
          "metadata": {},
          "execution_count": 31
        }
      ]
    },
    {
      "cell_type": "code",
      "source": [
        "11%4"
      ],
      "metadata": {
        "id": "DjlepfyG3t43",
        "outputId": "817524c3-0eac-4717-d755-c7b2e1f247d5",
        "colab": {
          "base_uri": "https://localhost:8080/"
        }
      },
      "execution_count": null,
      "outputs": [
        {
          "output_type": "execute_result",
          "data": {
            "text/plain": [
              "3"
            ]
          },
          "metadata": {},
          "execution_count": 32
        }
      ]
    },
    {
      "cell_type": "code",
      "source": [
        "number = 20 / 30\n",
        "print(number)\n",
        "print(round(number,2))\n",
        "round(number,4)"
      ],
      "metadata": {
        "id": "mdynkDuc3t1X",
        "outputId": "669a9ae5-01df-4a17-833e-1784b22e4739",
        "colab": {
          "base_uri": "https://localhost:8080/"
        }
      },
      "execution_count": null,
      "outputs": [
        {
          "output_type": "stream",
          "name": "stdout",
          "text": [
            "0.6666666666666666\n",
            "0.67\n"
          ]
        },
        {
          "output_type": "execute_result",
          "data": {
            "text/plain": [
              "0.6667"
            ]
          },
          "metadata": {},
          "execution_count": 37
        }
      ]
    },
    {
      "cell_type": "code",
      "source": [
        "10+2*4"
      ],
      "metadata": {
        "id": "jAfFKB_V3txe",
        "outputId": "c8c60ea0-06e9-46be-b283-a6455a76c002",
        "colab": {
          "base_uri": "https://localhost:8080/"
        }
      },
      "execution_count": null,
      "outputs": [
        {
          "output_type": "execute_result",
          "data": {
            "text/plain": [
              "18"
            ]
          },
          "metadata": {},
          "execution_count": 38
        }
      ]
    },
    {
      "cell_type": "code",
      "source": [
        "(10+2)*4"
      ],
      "metadata": {
        "id": "YQyoihc23tuC",
        "outputId": "bc387e14-8e6a-4c12-91fd-fe80bf0fea37",
        "colab": {
          "base_uri": "https://localhost:8080/"
        }
      },
      "execution_count": null,
      "outputs": [
        {
          "output_type": "execute_result",
          "data": {
            "text/plain": [
              "48"
            ]
          },
          "metadata": {},
          "execution_count": 39
        }
      ]
    },
    {
      "cell_type": "code",
      "source": [
        "6-5.7"
      ],
      "metadata": {
        "id": "ANb67tK76emd",
        "outputId": "d19f8795-db11-4e0c-d259-d99a8ccd77b0",
        "colab": {
          "base_uri": "https://localhost:8080/"
        }
      },
      "execution_count": null,
      "outputs": [
        {
          "output_type": "execute_result",
          "data": {
            "text/plain": [
              "0.2999999999999998"
            ]
          },
          "metadata": {},
          "execution_count": 41
        }
      ]
    },
    {
      "cell_type": "code",
      "source": [
        "round(6-5.7,2)"
      ],
      "metadata": {
        "id": "PRQRz5BL60qz",
        "outputId": "9d3079b8-a651-4cfd-d4be-67010af696b8",
        "colab": {
          "base_uri": "https://localhost:8080/"
        }
      },
      "execution_count": null,
      "outputs": [
        {
          "output_type": "execute_result",
          "data": {
            "text/plain": [
              "0.3"
            ]
          },
          "metadata": {},
          "execution_count": 42
        }
      ]
    },
    {
      "cell_type": "markdown",
      "source": [
        "#Excercises"
      ],
      "metadata": {
        "id": "Q-J3kjXgLLRh"
      }
    },
    {
      "cell_type": "markdown",
      "source": [
        "1. You have a football field that is 92 meter long and 48.8 meter wide. Find out total area using python and print it"
      ],
      "metadata": {
        "id": "1-g30bp2LN9B"
      }
    },
    {
      "cell_type": "code",
      "source": [
        "length= 92\n",
        "width=48.8\n",
        "\n",
        "area=length*width\n",
        "\n",
        "print(area)"
      ],
      "metadata": {
        "colab": {
          "base_uri": "https://localhost:8080/"
        },
        "id": "0Y17Bp_kLLIX",
        "outputId": "29a39d36-d093-49af-df94-fc656e1d02c6"
      },
      "execution_count": 2,
      "outputs": [
        {
          "output_type": "stream",
          "name": "stdout",
          "text": [
            "4489.599999999999\n"
          ]
        }
      ]
    },
    {
      "cell_type": "code",
      "source": [],
      "metadata": {
        "id": "qqCjxRBnLpT0"
      },
      "execution_count": null,
      "outputs": []
    },
    {
      "cell_type": "markdown",
      "source": [
        "2. You bought 9 packets of potato chips from a store. Each packet costs 1.49 dollar and you gave shopkeeper 20 dollar. Find out using python, how many dollars is the shopkeeper going to give you back?"
      ],
      "metadata": {
        "id": "fwIB-TPvLpp0"
      }
    },
    {
      "cell_type": "code",
      "source": [
        "total_packets=9\n",
        "one_packet_cost=1.49\n",
        "\n",
        "total_cost=total_packets*one_packet_cost\n",
        "money_paid=20\n",
        "\n",
        "money_back=money_paid-total_cost\n",
        "print(money_back)"
      ],
      "metadata": {
        "colab": {
          "base_uri": "https://localhost:8080/"
        },
        "id": "Mu-l3q-zLv0P",
        "outputId": "8d1fd77b-422d-4bd6-d519-3daf786e1c60"
      },
      "execution_count": 8,
      "outputs": [
        {
          "output_type": "stream",
          "name": "stdout",
          "text": [
            "6.59\n"
          ]
        }
      ]
    },
    {
      "cell_type": "code",
      "source": [],
      "metadata": {
        "id": "jjJn8HeQMPLv"
      },
      "execution_count": null,
      "outputs": []
    },
    {
      "cell_type": "markdown",
      "source": [
        "3. You want to replace tiles in your bathroom which is exactly square and 5.5 feet is its length. If tiles cost 500 rs per square feet, how much will be the total cost to replace all tiles. Calculate and print the cost using python\n",
        "Hint: Use power operator (**) to find area of a square"
      ],
      "metadata": {
        "id": "_wphoDrlM04Z"
      }
    },
    {
      "cell_type": "code",
      "source": [],
      "metadata": {
        "id": "gLSZGtyYM8Xt"
      },
      "execution_count": null,
      "outputs": []
    },
    {
      "cell_type": "markdown",
      "source": [
        "4. Print binary representation of number 17"
      ],
      "metadata": {
        "id": "XQFRASmgNEOa"
      }
    },
    {
      "cell_type": "code",
      "source": [
        "number=17\n",
        "print(\"Binary of\",number,\"is\",format(number,\"b\"))"
      ],
      "metadata": {
        "colab": {
          "base_uri": "https://localhost:8080/"
        },
        "id": "NJ_0KkC_NGB7",
        "outputId": "09dc47fd-a077-4a24-c770-45cb35c5fd5e"
      },
      "execution_count": 9,
      "outputs": [
        {
          "output_type": "stream",
          "name": "stdout",
          "text": [
            "Binary of 17 is 10001\n"
          ]
        }
      ]
    }
  ],
  "metadata": {
    "colab": {
      "provenance": []
    },
    "kernelspec": {
      "display_name": "Python 3",
      "name": "python3"
    }
  },
  "nbformat": 4,
  "nbformat_minor": 0
}