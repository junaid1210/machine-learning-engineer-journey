{
  "cells": [
    {
      "cell_type": "markdown",
      "source": [
        "#Variables"
      ],
      "metadata": {
        "id": "i8jxQtRIvM0n"
      }
    },
    {
      "cell_type": "code",
      "source": [
        "month1 = 1000\n",
        "month2 = 3000\n",
        "month3 = 5000\n",
        "\n",
        "total = month1 + month2 + month3\n",
        "print (total)"
      ],
      "metadata": {
        "id": "I0y1H9E0oy8j",
        "outputId": "8efc62cd-8105-459a-b144-a2d795f7a8c4",
        "colab": {
          "base_uri": "https://localhost:8080/"
        }
      },
      "execution_count": null,
      "outputs": [
        {
          "output_type": "stream",
          "name": "stdout",
          "text": [
            "9000\n"
          ]
        }
      ]
    },
    {
      "cell_type": "code",
      "source": [
        "print(\"Total months are:\",3,\"\\nand total expense is:\", total)"
      ],
      "metadata": {
        "id": "0y2VC8Idoy6B",
        "outputId": "987b3642-7868-4793-9ce9-c02470712562",
        "colab": {
          "base_uri": "https://localhost:8080/"
        }
      },
      "execution_count": null,
      "outputs": [
        {
          "output_type": "stream",
          "name": "stdout",
          "text": [
            "Total months are: 3 \n",
            "and total expense is: 9000\n"
          ]
        }
      ]
    },
    {
      "cell_type": "code",
      "source": [],
      "metadata": {
        "id": "Ua057Z6CoyMB"
      },
      "execution_count": null,
      "outputs": []
    },
    {
      "cell_type": "code",
      "source": [
        "Dinner = input(\"What would you like to eat? \")\n",
        "print(\"The visitor wants to eat\",Dinner)"
      ],
      "metadata": {
        "id": "GoOTyAnxoyJd",
        "outputId": "c2ac23a2-1b50-44f6-fa9b-52e94599f3a5",
        "colab": {
          "base_uri": "https://localhost:8080/"
        }
      },
      "execution_count": null,
      "outputs": [
        {
          "output_type": "stream",
          "name": "stdout",
          "text": [
            "What would you like to eat? Pulao\n",
            "The visitor wants to eat Pulao\n"
          ]
        }
      ]
    },
    {
      "cell_type": "markdown",
      "source": [
        "#Excercises"
      ],
      "metadata": {
        "id": "bWqsew5GCjw-"
      }
    },
    {
      "cell_type": "markdown",
      "source": [
        "1. Create a variable called break and assign it a value 5. See what happens and find out the reason behind the behavior that you see"
      ],
      "metadata": {
        "id": "EMAXcofXCqiB"
      }
    },
    {
      "cell_type": "code",
      "source": [
        "break=5"
      ],
      "metadata": {
        "colab": {
          "base_uri": "https://localhost:8080/",
          "height": 110
        },
        "id": "hMSRf5A2CmI8",
        "outputId": "ec39cde8-931f-4608-de43-d69d5799657f"
      },
      "execution_count": 1,
      "outputs": [
        {
          "output_type": "error",
          "ename": "SyntaxError",
          "evalue": "invalid syntax (ipython-input-1-800182598.py, line 1)",
          "traceback": [
            "\u001b[0;36m  File \u001b[0;32m\"/tmp/ipython-input-1-800182598.py\"\u001b[0;36m, line \u001b[0;32m1\u001b[0m\n\u001b[0;31m    break=5\u001b[0m\n\u001b[0m         ^\u001b[0m\n\u001b[0;31mSyntaxError\u001b[0m\u001b[0;31m:\u001b[0m invalid syntax\n"
          ]
        }
      ]
    },
    {
      "cell_type": "code",
      "source": [],
      "metadata": {
        "id": "gol5xN56C8js"
      },
      "execution_count": null,
      "outputs": []
    },
    {
      "cell_type": "markdown",
      "source": [
        "2. Create two variables. One to store your birth year and another one to store current year. Now calculate your age using these two variables"
      ],
      "metadata": {
        "id": "Bfa7bAlwC3uY"
      }
    },
    {
      "cell_type": "code",
      "source": [
        "var1=2000\n",
        "var2=2024\n",
        "my_age=var2-var1\n",
        "\n",
        "print(my_age)"
      ],
      "metadata": {
        "colab": {
          "base_uri": "https://localhost:8080/"
        },
        "id": "rv5qHrCXCmuZ",
        "outputId": "78a1e629-7c7d-460a-920d-d0eff7243df1"
      },
      "execution_count": 2,
      "outputs": [
        {
          "output_type": "stream",
          "name": "stdout",
          "text": [
            "24\n"
          ]
        }
      ]
    },
    {
      "cell_type": "code",
      "source": [],
      "metadata": {
        "id": "Xu2xsbAKCmq6"
      },
      "execution_count": null,
      "outputs": []
    },
    {
      "cell_type": "markdown",
      "source": [
        "3. Store your first, middle and last name in three different variables and then print your full name using these variables\n",
        "\n"
      ],
      "metadata": {
        "id": "oFcvcV_lDNqW"
      }
    },
    {
      "cell_type": "code",
      "source": [
        "from typing_extensions import LiteralString\n",
        "first_name=\"muhammad\"\n",
        "middle_name=\"asif\"\n",
        "last_name=\"ali\"\n",
        "\n",
        "print(\"my full name is: \", first_name, middle_name, last_name)"
      ],
      "metadata": {
        "colab": {
          "base_uri": "https://localhost:8080/"
        },
        "id": "5zRuMmStCmnh",
        "outputId": "a948177f-988f-4dbb-af12-6943c53198d2"
      },
      "execution_count": 12,
      "outputs": [
        {
          "output_type": "stream",
          "name": "stdout",
          "text": [
            "my full name is:  muhammad asif ali\n"
          ]
        }
      ]
    },
    {
      "cell_type": "code",
      "source": [
        "from typing_extensions import LiteralString\n",
        "first_name=\"muhammad\"\n",
        "middle_name=\"asif\"\n",
        "last_name=\"ali\"\n",
        "\n",
        "print(\"my full name is: \", first_name + \" \", middle_name + \" \", last_name)"
      ],
      "metadata": {
        "colab": {
          "base_uri": "https://localhost:8080/"
        },
        "id": "tHOaQwI_CmkH",
        "outputId": "f990d55d-0220-4535-ca3a-942754c723fd"
      },
      "execution_count": 9,
      "outputs": [
        {
          "output_type": "stream",
          "name": "stdout",
          "text": [
            "my full name is:  muhammad  asif  ali\n"
          ]
        }
      ]
    },
    {
      "cell_type": "code",
      "source": [],
      "metadata": {
        "id": "zQwWRkQ0EFAM"
      },
      "execution_count": null,
      "outputs": []
    },
    {
      "cell_type": "markdown",
      "source": [
        "4. Answer which of these are invalid variable names: \"_nation, 1record, record1, record_one, record-one, record^one, continue\""
      ],
      "metadata": {
        "id": "FgpI7wGPEFXM"
      }
    },
    {
      "cell_type": "code",
      "source": [
        "1record\n",
        "record-one\n",
        "continue\n",
        "record^one"
      ],
      "metadata": {
        "id": "pbDP5tPZEUxD"
      },
      "execution_count": null,
      "outputs": []
    }
  ],
  "metadata": {
    "colab": {
      "provenance": []
    },
    "kernelspec": {
      "display_name": "Python 3",
      "name": "python3"
    }
  },
  "nbformat": 4,
  "nbformat_minor": 0
}