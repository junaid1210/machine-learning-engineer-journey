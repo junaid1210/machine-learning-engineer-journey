{
  "cells": [
    {
      "cell_type": "markdown",
      "source": [
        "#Strings"
      ],
      "metadata": {
        "id": "i8jxQtRIvM0n"
      }
    },
    {
      "cell_type": "code",
      "source": [
        "string=\"good morning\"\n",
        "print(string)"
      ],
      "metadata": {
        "id": "V1eHAew17FjX",
        "outputId": "8fd77c44-da36-4d7b-f93b-4837e0ed7dd4",
        "colab": {
          "base_uri": "https://localhost:8080/"
        }
      },
      "execution_count": null,
      "outputs": [
        {
          "output_type": "stream",
          "name": "stdout",
          "text": [
            "good morning\n"
          ]
        }
      ]
    },
    {
      "cell_type": "code",
      "source": [
        "string[0:4]"
      ],
      "metadata": {
        "id": "2FjlQd9k7Fg2",
        "outputId": "cd58fefd-904e-4463-933e-8bc392fb812c",
        "colab": {
          "base_uri": "https://localhost:8080/",
          "height": 36
        }
      },
      "execution_count": null,
      "outputs": [
        {
          "output_type": "execute_result",
          "data": {
            "text/plain": [
              "'good'"
            ],
            "application/vnd.google.colaboratory.intrinsic+json": {
              "type": "string"
            }
          },
          "metadata": {},
          "execution_count": 44
        }
      ]
    },
    {
      "cell_type": "code",
      "source": [
        "string[:4]"
      ],
      "metadata": {
        "id": "Y6CAXAkg7FeN",
        "outputId": "dfc6a81f-c63b-4078-9080-0dd69bae22c5",
        "colab": {
          "base_uri": "https://localhost:8080/",
          "height": 36
        }
      },
      "execution_count": null,
      "outputs": [
        {
          "output_type": "execute_result",
          "data": {
            "text/plain": [
              "'good'"
            ],
            "application/vnd.google.colaboratory.intrinsic+json": {
              "type": "string"
            }
          },
          "metadata": {},
          "execution_count": 45
        }
      ]
    },
    {
      "cell_type": "code",
      "source": [
        "string[4:12]"
      ],
      "metadata": {
        "id": "x5Qarf757Fb8",
        "outputId": "a1520823-bc9d-4051-e09b-a40614fe574a",
        "colab": {
          "base_uri": "https://localhost:8080/",
          "height": 36
        }
      },
      "execution_count": null,
      "outputs": [
        {
          "output_type": "execute_result",
          "data": {
            "text/plain": [
              "' morning'"
            ],
            "application/vnd.google.colaboratory.intrinsic+json": {
              "type": "string"
            }
          },
          "metadata": {},
          "execution_count": 46
        }
      ]
    },
    {
      "cell_type": "code",
      "source": [
        "string[5:12]"
      ],
      "metadata": {
        "id": "Qri9t3va7FZg",
        "outputId": "f4b6f5fb-1929-4437-d4db-69a5b01ee5fe",
        "colab": {
          "base_uri": "https://localhost:8080/",
          "height": 36
        }
      },
      "execution_count": null,
      "outputs": [
        {
          "output_type": "execute_result",
          "data": {
            "text/plain": [
              "'morning'"
            ],
            "application/vnd.google.colaboratory.intrinsic+json": {
              "type": "string"
            }
          },
          "metadata": {},
          "execution_count": 48
        }
      ]
    },
    {
      "cell_type": "code",
      "source": [
        "string[5:15]"
      ],
      "metadata": {
        "id": "JWGhsnzx7FWy",
        "outputId": "037733fa-9176-4488-e378-8581d135ef77",
        "colab": {
          "base_uri": "https://localhost:8080/",
          "height": 36
        }
      },
      "execution_count": null,
      "outputs": [
        {
          "output_type": "execute_result",
          "data": {
            "text/plain": [
              "'morning'"
            ],
            "application/vnd.google.colaboratory.intrinsic+json": {
              "type": "string"
            }
          },
          "metadata": {},
          "execution_count": 51
        }
      ]
    },
    {
      "cell_type": "code",
      "source": [
        "string[5:]"
      ],
      "metadata": {
        "id": "Qx7wdk0g7FUv",
        "outputId": "fb560e8f-6694-4291-9485-b97ecd85f3ce",
        "colab": {
          "base_uri": "https://localhost:8080/",
          "height": 36
        }
      },
      "execution_count": null,
      "outputs": [
        {
          "output_type": "execute_result",
          "data": {
            "text/plain": [
              "'morning'"
            ],
            "application/vnd.google.colaboratory.intrinsic+json": {
              "type": "string"
            }
          },
          "metadata": {},
          "execution_count": 52
        }
      ]
    },
    {
      "cell_type": "code",
      "source": [
        "string[0]=f"
      ],
      "metadata": {
        "id": "1n1iLVzX7FSH",
        "outputId": "684fdbbc-1793-434f-f38b-48403ae8480c",
        "colab": {
          "base_uri": "https://localhost:8080/",
          "height": 146
        }
      },
      "execution_count": null,
      "outputs": [
        {
          "output_type": "error",
          "ename": "NameError",
          "evalue": "name 'f' is not defined",
          "traceback": [
            "\u001b[0;31m---------------------------------------------------------------------------\u001b[0m",
            "\u001b[0;31mNameError\u001b[0m                                 Traceback (most recent call last)",
            "\u001b[0;32m/tmp/ipython-input-53-3044777542.py\u001b[0m in \u001b[0;36m<cell line: 0>\u001b[0;34m()\u001b[0m\n\u001b[0;32m----> 1\u001b[0;31m \u001b[0mstring\u001b[0m\u001b[0;34m[\u001b[0m\u001b[0;36m0\u001b[0m\u001b[0;34m]\u001b[0m\u001b[0;34m=\u001b[0m\u001b[0mf\u001b[0m\u001b[0;34m\u001b[0m\u001b[0;34m\u001b[0m\u001b[0m\n\u001b[0m",
            "\u001b[0;31mNameError\u001b[0m: name 'f' is not defined"
          ]
        }
      ]
    },
    {
      "cell_type": "code",
      "source": [
        "string2=\"hello world\"\n",
        "print(string2)"
      ],
      "metadata": {
        "id": "-9mvWOI77FPu",
        "outputId": "ee19b0a6-2b1f-4f2d-b1d3-6c7da0d7018b",
        "colab": {
          "base_uri": "https://localhost:8080/"
        }
      },
      "execution_count": null,
      "outputs": [
        {
          "output_type": "stream",
          "name": "stdout",
          "text": [
            "hello world\n"
          ]
        }
      ]
    },
    {
      "cell_type": "code",
      "source": [
        "string2='hello world'\n",
        "print(string2)"
      ],
      "metadata": {
        "id": "in3LDW2R7FNM",
        "outputId": "b06a64c6-3811-4ca9-af55-909e726d9944",
        "colab": {
          "base_uri": "https://localhost:8080/"
        }
      },
      "execution_count": null,
      "outputs": [
        {
          "output_type": "stream",
          "name": "stdout",
          "text": [
            "hello world\n"
          ]
        }
      ]
    },
    {
      "cell_type": "code",
      "source": [
        "string2='''hello world'''\n",
        "print(string2)"
      ],
      "metadata": {
        "id": "EIOe--317FKi",
        "outputId": "d532bfdc-19c5-4495-8d6b-6f9da80dbd97",
        "colab": {
          "base_uri": "https://localhost:8080/"
        }
      },
      "execution_count": null,
      "outputs": [
        {
          "output_type": "stream",
          "name": "stdout",
          "text": [
            "hello world\n"
          ]
        }
      ]
    },
    {
      "cell_type": "code",
      "source": [
        "string2='hello \"world\"'\n",
        "print(string2)"
      ],
      "metadata": {
        "id": "lisgw3UV7FIG",
        "outputId": "9905e557-fecf-43be-cfb3-73fbcc2ae1ff",
        "colab": {
          "base_uri": "https://localhost:8080/"
        }
      },
      "execution_count": null,
      "outputs": [
        {
          "output_type": "stream",
          "name": "stdout",
          "text": [
            "hello \"world\"\n"
          ]
        }
      ]
    },
    {
      "cell_type": "code",
      "source": [
        "s1=\"total months in a year are\"\n",
        "s2=str(12)\n",
        "print(s1+\" \" +s2)"
      ],
      "metadata": {
        "id": "zEjMwaOO7FFq",
        "outputId": "1a18f663-0dbd-40b4-a677-afb82d2107a2",
        "colab": {
          "base_uri": "https://localhost:8080/"
        }
      },
      "execution_count": null,
      "outputs": [
        {
          "output_type": "stream",
          "name": "stdout",
          "text": [
            "total months in a year are 12\n"
          ]
        }
      ]
    },
    {
      "cell_type": "code",
      "source": [],
      "metadata": {
        "id": "Q9MY4wIMNzaR"
      },
      "execution_count": null,
      "outputs": []
    },
    {
      "cell_type": "markdown",
      "source": [
        "#Excercises"
      ],
      "metadata": {
        "id": "jPWfaBzQN5RM"
      }
    },
    {
      "cell_type": "markdown",
      "source": [
        "1. Create 3 variables to store street, city and country, now create address variable to store entire address. Use two ways of creating this variable, one using + operator and the other using f-string. Now Print the address in such a way that the street, city and country prints in a separate line"
      ],
      "metadata": {
        "id": "hGAfd0MLNz3E"
      }
    },
    {
      "cell_type": "code",
      "source": [
        "street=\"5\"\n",
        "city=\"lahore\"\n",
        "country=\"pakistan\"\n",
        "\n",
        "address=street + \"\\n\" + city + \"\\n\" + country\n",
        "\n",
        "print(\"address using +\",\"\\n\",address)\n",
        "\n",
        "print(f\"{street} \\n{city} \\n{country}\")"
      ],
      "metadata": {
        "colab": {
          "base_uri": "https://localhost:8080/"
        },
        "id": "ZR4uAWSaN3d4",
        "outputId": "2b38d3a3-dd54-4258-a16c-cc03f4a1a827"
      },
      "execution_count": 13,
      "outputs": [
        {
          "output_type": "stream",
          "name": "stdout",
          "text": [
            "address using + \n",
            " 5\n",
            "lahore\n",
            "pakistan\n",
            "5 \n",
            "lahore \n",
            "pakistan\n"
          ]
        }
      ]
    },
    {
      "cell_type": "code",
      "source": [],
      "metadata": {
        "id": "CQqYW8kHQOK6"
      },
      "execution_count": null,
      "outputs": []
    },
    {
      "cell_type": "markdown",
      "source": [
        "2. Create a variable to store the string \"Earth revolves around the sun\"\n",
        "  1. Print \"revolves\" using slice operator\n",
        "  2. Print \"sun\" using negative index"
      ],
      "metadata": {
        "id": "tqsjqodkSFik"
      }
    },
    {
      "cell_type": "code",
      "source": [
        "var=\"Earth revolves around the sun\"\n",
        "\n",
        "print(var[6:14])\n",
        "print(var[-3:])"
      ],
      "metadata": {
        "colab": {
          "base_uri": "https://localhost:8080/"
        },
        "id": "k4hhcjrnSLJQ",
        "outputId": "fb083039-86bc-470f-e62d-f2b26937bcf8"
      },
      "execution_count": 24,
      "outputs": [
        {
          "output_type": "stream",
          "name": "stdout",
          "text": [
            "revolves\n",
            "sun\n"
          ]
        }
      ]
    },
    {
      "cell_type": "code",
      "source": [],
      "metadata": {
        "id": "73QX8O9PTBv3"
      },
      "execution_count": null,
      "outputs": []
    },
    {
      "cell_type": "markdown",
      "source": [
        "3. Create two variables to store how many fruits and vegetables you eat in a day. Now Print \"I eat x veggies and y fruits daily\" where x and y presents vegetables and fruits that you eat everyday. Use python f string for this."
      ],
      "metadata": {
        "id": "KEf0-zi_S97w"
      }
    },
    {
      "cell_type": "code",
      "source": [
        "veg=5\n",
        "fruits=4\n",
        "\n",
        "print(\"I eat\",veg,\"vegetables and\",fruits,\"fruits\")\n",
        "\n",
        "print(f\"I eat {veg} vegetables and {fruits} fruits\")"
      ],
      "metadata": {
        "colab": {
          "base_uri": "https://localhost:8080/"
        },
        "id": "PNgWn4YmS_vq",
        "outputId": "21446d7f-e45e-4e5c-f822-35870c0688dc"
      },
      "execution_count": 27,
      "outputs": [
        {
          "output_type": "stream",
          "name": "stdout",
          "text": [
            "I eat 5 vegetables and 4 fruits\n",
            "I eat 5 vegetables and 4 fruits\n"
          ]
        }
      ]
    },
    {
      "cell_type": "code",
      "source": [],
      "metadata": {
        "id": "X2nuQXfLTvBm"
      },
      "execution_count": null,
      "outputs": []
    },
    {
      "cell_type": "markdown",
      "source": [
        "4. I have a string variable called s='maine 200 banana khaye'. This of course is a wrong statement, the correct statement is 'maine 10 samosa khaye'. Replace incorrect words in original strong with new ones and print the new string. Also try to do this in one line."
      ],
      "metadata": {
        "id": "3OONShiZTvXv"
      }
    },
    {
      "cell_type": "code",
      "source": [
        "s='maine 200 banana khaye'\n",
        "s=s.replace(\"200\",\"10\")\n",
        "s=s.replace(\"banana\",\"samosa\")\n",
        "\n",
        "print(s)"
      ],
      "metadata": {
        "colab": {
          "base_uri": "https://localhost:8080/"
        },
        "id": "8i4000X1TwUN",
        "outputId": "ab5a6c04-0959-4d81-d0e6-1b82c045de5b"
      },
      "execution_count": 29,
      "outputs": [
        {
          "output_type": "stream",
          "name": "stdout",
          "text": [
            "maine 10 samosa khaye\n"
          ]
        }
      ]
    }
  ],
  "metadata": {
    "colab": {
      "provenance": []
    },
    "kernelspec": {
      "display_name": "Python 3",
      "name": "python3"
    }
  },
  "nbformat": 4,
  "nbformat_minor": 0
}