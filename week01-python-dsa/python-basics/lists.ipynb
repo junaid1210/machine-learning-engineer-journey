{
  "cells": [
    {
      "cell_type": "markdown",
      "source": [
        "#Lists"
      ],
      "metadata": {
        "id": "v0SmeJgxI07b"
      }
    },
    {
      "cell_type": "code",
      "source": [
        "items=[\"apple\", \"orange\", \"banana\"]\n",
        "items"
      ],
      "metadata": {
        "id": "eg7mSrywI11V",
        "outputId": "c0e2e36c-b9eb-4ac8-ff6f-3b4b0ead8d45",
        "colab": {
          "base_uri": "https://localhost:8080/"
        }
      },
      "execution_count": null,
      "outputs": [
        {
          "output_type": "execute_result",
          "data": {
            "text/plain": [
              "['apple', 'orange', 'banana']"
            ]
          },
          "metadata": {},
          "execution_count": 25
        }
      ]
    },
    {
      "cell_type": "code",
      "source": [
        "items.append(\"tomato\")\n",
        "print(items)"
      ],
      "metadata": {
        "id": "j6fImuPMI1zE",
        "outputId": "11348e71-b263-40db-f349-2c089cfc7b65",
        "colab": {
          "base_uri": "https://localhost:8080/"
        }
      },
      "execution_count": null,
      "outputs": [
        {
          "output_type": "stream",
          "name": "stdout",
          "text": [
            "['apple', 'orange', 'banana', 'tomato']\n"
          ]
        }
      ]
    },
    {
      "cell_type": "code",
      "source": [
        "list1=[\"key\", \"lock\"]\n",
        "list2=[\"gate\", \"door\"]\n",
        "lists=list1+list2\n",
        "\n",
        "print(lists)"
      ],
      "metadata": {
        "id": "sYRFI9pFI1wV",
        "outputId": "0ab69735-a213-4e61-bad3-e9ae69956620",
        "colab": {
          "base_uri": "https://localhost:8080/"
        }
      },
      "execution_count": null,
      "outputs": [
        {
          "output_type": "stream",
          "name": "stdout",
          "text": [
            "['key', 'lock', 'gate', 'door']\n"
          ]
        }
      ]
    },
    {
      "cell_type": "code",
      "source": [
        "items"
      ],
      "metadata": {
        "id": "C1NZp5HlI1t_",
        "outputId": "3ba5d5c9-0904-451b-8477-8d1fc10e3e6b",
        "colab": {
          "base_uri": "https://localhost:8080/"
        }
      },
      "execution_count": null,
      "outputs": [
        {
          "output_type": "execute_result",
          "data": {
            "text/plain": [
              "['apple', 'orange', 'banana', 'tomato']"
            ]
          },
          "metadata": {},
          "execution_count": 28
        }
      ]
    },
    {
      "cell_type": "code",
      "source": [
        "items[0:2]"
      ],
      "metadata": {
        "id": "lKp_5LsII1rc",
        "outputId": "0d044692-de96-409a-fde9-09083de85aef",
        "colab": {
          "base_uri": "https://localhost:8080/"
        }
      },
      "execution_count": null,
      "outputs": [
        {
          "output_type": "execute_result",
          "data": {
            "text/plain": [
              "['apple', 'orange']"
            ]
          },
          "metadata": {},
          "execution_count": 29
        }
      ]
    },
    {
      "cell_type": "code",
      "source": [
        "lists"
      ],
      "metadata": {
        "id": "revNW7mFI1mo",
        "outputId": "f8035268-3b11-4cdc-aa5e-4438c6ee159e",
        "colab": {
          "base_uri": "https://localhost:8080/"
        }
      },
      "execution_count": null,
      "outputs": [
        {
          "output_type": "execute_result",
          "data": {
            "text/plain": [
              "['key', 'lock', 'gate', 'door']"
            ]
          },
          "metadata": {},
          "execution_count": 30
        }
      ]
    },
    {
      "cell_type": "code",
      "source": [
        "\"car\" in lists"
      ],
      "metadata": {
        "id": "lPD258UiI1kF",
        "outputId": "b933d83c-da21-4e3a-e50a-d574f3efa460",
        "colab": {
          "base_uri": "https://localhost:8080/"
        }
      },
      "execution_count": null,
      "outputs": [
        {
          "output_type": "execute_result",
          "data": {
            "text/plain": [
              "False"
            ]
          },
          "metadata": {},
          "execution_count": 32
        }
      ]
    },
    {
      "cell_type": "code",
      "source": [
        "\"door\" in lists"
      ],
      "metadata": {
        "id": "RzXChXvOI1h0",
        "outputId": "1065e6c1-6ea7-45e2-f0d6-5040a047f520",
        "colab": {
          "base_uri": "https://localhost:8080/"
        }
      },
      "execution_count": null,
      "outputs": [
        {
          "output_type": "execute_result",
          "data": {
            "text/plain": [
              "True"
            ]
          },
          "metadata": {},
          "execution_count": 33
        }
      ]
    },
    {
      "cell_type": "code",
      "source": [],
      "metadata": {
        "id": "iti9WZElI1fV"
      },
      "execution_count": null,
      "outputs": []
    },
    {
      "cell_type": "markdown",
      "source": [
        "#Excercises"
      ],
      "metadata": {
        "id": "fIhe7CIWWIIk"
      }
    },
    {
      "cell_type": "markdown",
      "source": [
        "1. Let us say your expense for every month are listed below,\n",
        "\t1. January -  2200\n",
        "  2. February - 2350\n",
        "  3. March - 2600\n",
        "  4. April - 2130\n",
        "  5. May - 2190\n",
        "\n",
        "Create a list to store these monthly expenses and using that find out,\n",
        "\n",
        " 1. In Feb, how many dollars you spent extra compare to January?\n",
        " 2. Find out your total expense in first quarter (first three months) of the year.\n",
        " 3. Find out if you spent exactly 2000 dollars in any month\n",
        " 4. June month just finished and your expense is 1980 dollar. Add this item to our monthly expense list\n",
        " 5. You returned an item that you bought in a month of April and got a refund of 200$. Make a correction to your monthly expense list\n",
        " based on this"
      ],
      "metadata": {
        "id": "tZF2SgXqWKQO"
      }
    },
    {
      "cell_type": "code",
      "source": [
        "exp=[2200,2350,2600,2130,2190]\n",
        "\n",
        "print(\"1. In Feb, i spent\", exp[1]- exp[0], \"dollars extra compare to January\")\n",
        "\n",
        "print(\"2. Total expense in first quarter of the year is\",exp[0] + exp[1] + exp[2])\n",
        "\n",
        "print(\"3. I spent exactly 2000 dollars in any month?\",2000 in exp)\n",
        "\n",
        "exp.append(1980)\n",
        "print(\"4. Add 1980 dollar to the monthly expense list\", exp)\n",
        "\n",
        "print(\"5. Minus 200$ from april month\",exp[3]-200)"
      ],
      "metadata": {
        "colab": {
          "base_uri": "https://localhost:8080/"
        },
        "id": "lRji4HaAWJn6",
        "outputId": "8afb8605-c844-4818-bb58-593038077361"
      },
      "execution_count": 14,
      "outputs": [
        {
          "output_type": "stream",
          "name": "stdout",
          "text": [
            "1. In Feb, i spent 150 dollars extra compare to January\n",
            "2. Total expense in first quarter of the year is 7150\n",
            "3. I spent exactly 2000 dollars in any month? False\n",
            "4. Add 1980 dollar to the monthly expense list [2200, 2350, 2600, 2130, 2190, 1980]\n",
            "5. Minus 200$ from april month 1930\n"
          ]
        }
      ]
    },
    {
      "cell_type": "code",
      "source": [],
      "metadata": {
        "id": "6bN5NlYIivqv"
      },
      "execution_count": null,
      "outputs": []
    },
    {
      "cell_type": "markdown",
      "source": [
        "2. You have a list of your favourite marvel super heros heros=['spider man','thor','hulk','iron man','captain america'] Using this list\n",
        "\n",
        " 1. Length of the list\n",
        " 2. Add 'black panther' at the end of this list\n",
        " 3. You realize that you need to add 'black panther' after 'hulk', so remove it from the list first and then add it after 'hulk'\n",
        " 4. Now you don't like thor and hulk because they get angry easily :) So you want to remove thor and hulk from list and replace them with doctor strange (because he is cool). Do that with one line of code.\n",
        " 5. Sort the list in alphabetical order"
      ],
      "metadata": {
        "id": "NWdEoPQAiv8e"
      }
    },
    {
      "cell_type": "code",
      "source": [
        "heroes=[\"spider man\", \"thor\", \"hulk\", \"iron man\", \"captain america\"]\n",
        "\n",
        "print(len(heroes))\n",
        "\n",
        "heroes.append(\"black panther\")\n",
        "print(heroes)\n",
        "\n",
        "heroes.remove(\"black panther\")\n",
        "heroes.insert(3, \"black panther\")\n",
        "print(heroes)\n",
        "\n",
        "heroes[1:3]=[\"doctor strange\"]\n",
        "print(heroes)\n",
        "\n",
        "heroes.sort()\n",
        "print(heroes)"
      ],
      "metadata": {
        "colab": {
          "base_uri": "https://localhost:8080/"
        },
        "id": "HU-TQ0WMi3Di",
        "outputId": "78838e16-e3f1-4222-bbd7-eb2d1825b8a7"
      },
      "execution_count": 16,
      "outputs": [
        {
          "output_type": "stream",
          "name": "stdout",
          "text": [
            "5\n",
            "['spider man', 'thor', 'hulk', 'iron man', 'captain america', 'black panther']\n",
            "['spider man', 'thor', 'hulk', 'black panther', 'iron man', 'captain america']\n",
            "['spider man', 'doctor strange', 'black panther', 'iron man', 'captain america']\n",
            "['black panther', 'captain america', 'doctor strange', 'iron man', 'spider man']\n"
          ]
        }
      ]
    },
    {
      "cell_type": "code",
      "source": [],
      "metadata": {
        "id": "zPYxRLJQGbL8"
      },
      "execution_count": null,
      "outputs": []
    }
  ],
  "metadata": {
    "colab": {
      "provenance": []
    },
    "kernelspec": {
      "display_name": "Python 3",
      "name": "python3"
    }
  },
  "nbformat": 4,
  "nbformat_minor": 0
}