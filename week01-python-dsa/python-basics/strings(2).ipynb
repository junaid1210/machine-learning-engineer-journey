{
  "cells": [
    {
      "cell_type": "markdown",
      "source": [
        "#Strings"
      ],
      "metadata": {
        "id": "i8jxQtRIvM0n"
      }
    },
    {
      "cell_type": "code",
      "source": [
        "string=\"good morning\"\n",
        "print(string)"
      ],
      "metadata": {
        "id": "V1eHAew17FjX",
        "outputId": "8fd77c44-da36-4d7b-f93b-4837e0ed7dd4",
        "colab": {
          "base_uri": "https://localhost:8080/"
        }
      },
      "execution_count": null,
      "outputs": [
        {
          "output_type": "stream",
          "name": "stdout",
          "text": [
            "good morning\n"
          ]
        }
      ]
    },
    {
      "cell_type": "code",
      "source": [
        "string[0:4]"
      ],
      "metadata": {
        "id": "2FjlQd9k7Fg2",
        "outputId": "cd58fefd-904e-4463-933e-8bc392fb812c",
        "colab": {
          "base_uri": "https://localhost:8080/",
          "height": 36
        }
      },
      "execution_count": null,
      "outputs": [
        {
          "output_type": "execute_result",
          "data": {
            "text/plain": [
              "'good'"
            ],
            "application/vnd.google.colaboratory.intrinsic+json": {
              "type": "string"
            }
          },
          "metadata": {},
          "execution_count": 44
        }
      ]
    },
    {
      "cell_type": "code",
      "source": [
        "string[:4]"
      ],
      "metadata": {
        "id": "Y6CAXAkg7FeN",
        "outputId": "dfc6a81f-c63b-4078-9080-0dd69bae22c5",
        "colab": {
          "base_uri": "https://localhost:8080/",
          "height": 36
        }
      },
      "execution_count": null,
      "outputs": [
        {
          "output_type": "execute_result",
          "data": {
            "text/plain": [
              "'good'"
            ],
            "application/vnd.google.colaboratory.intrinsic+json": {
              "type": "string"
            }
          },
          "metadata": {},
          "execution_count": 45
        }
      ]
    },
    {
      "cell_type": "code",
      "source": [
        "string[4:12]"
      ],
      "metadata": {
        "id": "x5Qarf757Fb8",
        "outputId": "a1520823-bc9d-4051-e09b-a40614fe574a",
        "colab": {
          "base_uri": "https://localhost:8080/",
          "height": 36
        }
      },
      "execution_count": null,
      "outputs": [
        {
          "output_type": "execute_result",
          "data": {
            "text/plain": [
              "' morning'"
            ],
            "application/vnd.google.colaboratory.intrinsic+json": {
              "type": "string"
            }
          },
          "metadata": {},
          "execution_count": 46
        }
      ]
    },
    {
      "cell_type": "code",
      "source": [
        "string[5:12]"
      ],
      "metadata": {
        "id": "Qri9t3va7FZg",
        "outputId": "f4b6f5fb-1929-4437-d4db-69a5b01ee5fe",
        "colab": {
          "base_uri": "https://localhost:8080/",
          "height": 36
        }
      },
      "execution_count": null,
      "outputs": [
        {
          "output_type": "execute_result",
          "data": {
            "text/plain": [
              "'morning'"
            ],
            "application/vnd.google.colaboratory.intrinsic+json": {
              "type": "string"
            }
          },
          "metadata": {},
          "execution_count": 48
        }
      ]
    },
    {
      "cell_type": "code",
      "source": [
        "string[5:15]"
      ],
      "metadata": {
        "id": "JWGhsnzx7FWy",
        "outputId": "037733fa-9176-4488-e378-8581d135ef77",
        "colab": {
          "base_uri": "https://localhost:8080/",
          "height": 36
        }
      },
      "execution_count": null,
      "outputs": [
        {
          "output_type": "execute_result",
          "data": {
            "text/plain": [
              "'morning'"
            ],
            "application/vnd.google.colaboratory.intrinsic+json": {
              "type": "string"
            }
          },
          "metadata": {},
          "execution_count": 51
        }
      ]
    },
    {
      "cell_type": "code",
      "source": [
        "string[5:]"
      ],
      "metadata": {
        "id": "Qx7wdk0g7FUv",
        "outputId": "fb560e8f-6694-4291-9485-b97ecd85f3ce",
        "colab": {
          "base_uri": "https://localhost:8080/",
          "height": 36
        }
      },
      "execution_count": null,
      "outputs": [
        {
          "output_type": "execute_result",
          "data": {
            "text/plain": [
              "'morning'"
            ],
            "application/vnd.google.colaboratory.intrinsic+json": {
              "type": "string"
            }
          },
          "metadata": {},
          "execution_count": 52
        }
      ]
    },
    {
      "cell_type": "code",
      "source": [
        "string[0]=f"
      ],
      "metadata": {
        "id": "1n1iLVzX7FSH",
        "outputId": "684fdbbc-1793-434f-f38b-48403ae8480c",
        "colab": {
          "base_uri": "https://localhost:8080/",
          "height": 146
        }
      },
      "execution_count": null,
      "outputs": [
        {
          "output_type": "error",
          "ename": "NameError",
          "evalue": "name 'f' is not defined",
          "traceback": [
            "\u001b[0;31m---------------------------------------------------------------------------\u001b[0m",
            "\u001b[0;31mNameError\u001b[0m                                 Traceback (most recent call last)",
            "\u001b[0;32m/tmp/ipython-input-53-3044777542.py\u001b[0m in \u001b[0;36m<cell line: 0>\u001b[0;34m()\u001b[0m\n\u001b[0;32m----> 1\u001b[0;31m \u001b[0mstring\u001b[0m\u001b[0;34m[\u001b[0m\u001b[0;36m0\u001b[0m\u001b[0;34m]\u001b[0m\u001b[0;34m=\u001b[0m\u001b[0mf\u001b[0m\u001b[0;34m\u001b[0m\u001b[0;34m\u001b[0m\u001b[0m\n\u001b[0m",
            "\u001b[0;31mNameError\u001b[0m: name 'f' is not defined"
          ]
        }
      ]
    },
    {
      "cell_type": "code",
      "source": [
        "string2=\"hello world\"\n",
        "print(string2)"
      ],
      "metadata": {
        "id": "-9mvWOI77FPu",
        "outputId": "ee19b0a6-2b1f-4f2d-b1d3-6c7da0d7018b",
        "colab": {
          "base_uri": "https://localhost:8080/"
        }
      },
      "execution_count": null,
      "outputs": [
        {
          "output_type": "stream",
          "name": "stdout",
          "text": [
            "hello world\n"
          ]
        }
      ]
    },
    {
      "cell_type": "code",
      "source": [
        "string2='hello world'\n",
        "print(string2)"
      ],
      "metadata": {
        "id": "in3LDW2R7FNM",
        "outputId": "b06a64c6-3811-4ca9-af55-909e726d9944",
        "colab": {
          "base_uri": "https://localhost:8080/"
        }
      },
      "execution_count": null,
      "outputs": [
        {
          "output_type": "stream",
          "name": "stdout",
          "text": [
            "hello world\n"
          ]
        }
      ]
    },
    {
      "cell_type": "code",
      "source": [
        "string2='''hello world'''\n",
        "print(string2)"
      ],
      "metadata": {
        "id": "EIOe--317FKi",
        "outputId": "d532bfdc-19c5-4495-8d6b-6f9da80dbd97",
        "colab": {
          "base_uri": "https://localhost:8080/"
        }
      },
      "execution_count": null,
      "outputs": [
        {
          "output_type": "stream",
          "name": "stdout",
          "text": [
            "hello world\n"
          ]
        }
      ]
    },
    {
      "cell_type": "code",
      "source": [
        "string2='hello \"world\"'\n",
        "print(string2)"
      ],
      "metadata": {
        "id": "lisgw3UV7FIG",
        "outputId": "9905e557-fecf-43be-cfb3-73fbcc2ae1ff",
        "colab": {
          "base_uri": "https://localhost:8080/"
        }
      },
      "execution_count": null,
      "outputs": [
        {
          "output_type": "stream",
          "name": "stdout",
          "text": [
            "hello \"world\"\n"
          ]
        }
      ]
    },
    {
      "cell_type": "code",
      "source": [
        "s1=\"total months in a year are\"\n",
        "s2=str(12)\n",
        "print(s1+\" \" +s2)"
      ],
      "metadata": {
        "id": "zEjMwaOO7FFq",
        "outputId": "1a18f663-0dbd-40b4-a677-afb82d2107a2",
        "colab": {
          "base_uri": "https://localhost:8080/"
        }
      },
      "execution_count": null,
      "outputs": [
        {
          "output_type": "stream",
          "name": "stdout",
          "text": [
            "total months in a year are 12\n"
          ]
        }
      ]
    },
    {
      "cell_type": "code",
      "source": [],
      "metadata": {
        "id": "Q9MY4wIMNzaR"
      },
      "execution_count": null,
      "outputs": []
    },
    {
      "cell_type": "markdown",
      "source": [
        "#Excercises"
      ],
      "metadata": {
        "id": "jPWfaBzQN5RM"
      }
    },
    {
      "cell_type": "markdown",
      "source": [
        "1. Create 3 variables to store street, city and country, now create address variable to store entire address. Use two ways of creating this variable, one using + operator and the other using f-string. Now Print the address in such a way that the street, city and country prints in a separate line"
      ],
      "metadata": {
        "id": "hGAfd0MLNz3E"
      }
    },
    {
      "cell_type": "code",
      "source": [
        "street=\"5\"\n",
        "city=\"lahore\"\n",
        "country=\"pakistan\"\n",
        "\n",
        "address=street + \"\\n\" + city + \"\\n\" + country\n",
        "\n",
        "print(\"address using +\",\"\\n\",address)\n",
        "\n",
        "print(f\"{street} \\n{city} \\n{country}\")"
      ],
      "metadata": {
        "colab": {
          "base_uri": "https://localhost:8080/"
        },
        "id": "ZR4uAWSaN3d4",
        "outputId": "2b38d3a3-dd54-4258-a16c-cc03f4a1a827"
      },
      "execution_count": null,
      "outputs": [
        {
          "output_type": "stream",
          "name": "stdout",
          "text": [
            "address using + \n",
            " 5\n",
            "lahore\n",
            "pakistan\n",
            "5 \n",
            "lahore \n",
            "pakistan\n"
          ]
        }
      ]
    },
    {
      "cell_type": "code",
      "source": [],
      "metadata": {
        "id": "CQqYW8kHQOK6"
      },
      "execution_count": null,
      "outputs": []
    },
    {
      "cell_type": "markdown",
      "source": [
        "2. Create a variable to store the string \"Earth revolves around the sun\"\n",
        "  1. Print \"revolves\" using slice operator\n",
        "  2. Print \"sun\" using negative index"
      ],
      "metadata": {
        "id": "tqsjqodkSFik"
      }
    },
    {
      "cell_type": "code",
      "source": [
        "var=\"Earth revolves around the sun\"\n",
        "\n",
        "print(var[6:14])\n",
        "print(var[-3:])"
      ],
      "metadata": {
        "colab": {
          "base_uri": "https://localhost:8080/"
        },
        "id": "k4hhcjrnSLJQ",
        "outputId": "fb083039-86bc-470f-e62d-f2b26937bcf8"
      },
      "execution_count": null,
      "outputs": [
        {
          "output_type": "stream",
          "name": "stdout",
          "text": [
            "revolves\n",
            "sun\n"
          ]
        }
      ]
    },
    {
      "cell_type": "code",
      "source": [],
      "metadata": {
        "id": "73QX8O9PTBv3"
      },
      "execution_count": null,
      "outputs": []
    },
    {
      "cell_type": "markdown",
      "source": [
        "3. Create two variables to store how many fruits and vegetables you eat in a day. Now Print \"I eat x veggies and y fruits daily\" where x and y presents vegetables and fruits that you eat everyday. Use python f string for this."
      ],
      "metadata": {
        "id": "KEf0-zi_S97w"
      }
    },
    {
      "cell_type": "code",
      "source": [
        "veg=5\n",
        "fruits=4\n",
        "\n",
        "print(\"I eat\",veg,\"vegetables and\",fruits,\"fruits\")\n",
        "\n",
        "print(f\"I eat {veg} vegetables and {fruits} fruits\")"
      ],
      "metadata": {
        "colab": {
          "base_uri": "https://localhost:8080/"
        },
        "id": "PNgWn4YmS_vq",
        "outputId": "21446d7f-e45e-4e5c-f822-35870c0688dc"
      },
      "execution_count": null,
      "outputs": [
        {
          "output_type": "stream",
          "name": "stdout",
          "text": [
            "I eat 5 vegetables and 4 fruits\n",
            "I eat 5 vegetables and 4 fruits\n"
          ]
        }
      ]
    },
    {
      "cell_type": "code",
      "source": [],
      "metadata": {
        "id": "X2nuQXfLTvBm"
      },
      "execution_count": null,
      "outputs": []
    },
    {
      "cell_type": "markdown",
      "source": [
        "4. I have a string variable called s='maine 200 banana khaye'. This of course is a wrong statement, the correct statement is 'maine 10 samosa khaye'. Replace incorrect words in original strong with new ones and print the new string. Also try to do this in one line."
      ],
      "metadata": {
        "id": "3OONShiZTvXv"
      }
    },
    {
      "cell_type": "code",
      "source": [
        "s='maine 200 banana khaye'\n",
        "s=s.replace(\"200\",\"10\")\n",
        "s=s.replace(\"banana\",\"samosa\")\n",
        "\n",
        "print(s)"
      ],
      "metadata": {
        "colab": {
          "base_uri": "https://localhost:8080/"
        },
        "id": "8i4000X1TwUN",
        "outputId": "ab5a6c04-0959-4d81-d0e6-1b82c045de5b"
      },
      "execution_count": null,
      "outputs": [
        {
          "output_type": "stream",
          "name": "stdout",
          "text": [
            "maine 10 samosa khaye\n"
          ]
        }
      ]
    },
    {
      "cell_type": "code",
      "source": [],
      "metadata": {
        "id": "s2RbFOwzqSVH"
      },
      "execution_count": null,
      "outputs": []
    },
    {
      "cell_type": "markdown",
      "source": [
        "Ask a string from user. Count how many alphabets are there in that\n",
        "string."
      ],
      "metadata": {
        "id": "ZSL-xwUhqSlB"
      }
    },
    {
      "cell_type": "code",
      "source": [
        "string = str(input(\"Enter any word: \"))\n",
        "\n",
        "print(f\"Length of string {num} is {len(num)}\")"
      ],
      "metadata": {
        "colab": {
          "base_uri": "https://localhost:8080/"
        },
        "id": "cHxOM54AqS-n",
        "outputId": "089ae31f-50ea-4ad0-f00a-3accc5598e04"
      },
      "execution_count": null,
      "outputs": [
        {
          "output_type": "stream",
          "name": "stdout",
          "text": [
            "Enter any word: abcd\n",
            "Length of string abcd is 4\n"
          ]
        }
      ]
    },
    {
      "cell_type": "code",
      "source": [],
      "metadata": {
        "id": "4ThVzaJMq53D"
      },
      "execution_count": null,
      "outputs": []
    },
    {
      "cell_type": "markdown",
      "source": [
        "Ask a string from user. Count the number of uppercase and\n",
        "lowercase characters in that String."
      ],
      "metadata": {
        "id": "O9mbr293q3rt"
      }
    },
    {
      "cell_type": "code",
      "source": [
        "string = str(input(\"Enter any word: \"))\n",
        "\n",
        "upp_case = 0\n",
        "low_case = 0\n",
        "\n",
        "for i in string:\n",
        "  if i.isupper():\n",
        "    upp_case = upp_case + 1\n",
        "  elif i.islower():\n",
        "    low_case = low_case + 1\n",
        "\n",
        "print(low_case)\n",
        "print(upp_case)"
      ],
      "metadata": {
        "colab": {
          "base_uri": "https://localhost:8080/"
        },
        "id": "JVHYI9aQq4eU",
        "outputId": "cbbf24b4-6950-4067-ad05-ca3bea72b426"
      },
      "execution_count": null,
      "outputs": [
        {
          "output_type": "stream",
          "name": "stdout",
          "text": [
            "Enter any word: asdfAS\n",
            "4\n",
            "2\n"
          ]
        }
      ]
    },
    {
      "cell_type": "code",
      "source": [],
      "metadata": {
        "id": "BWOgo9rBs6Yu"
      },
      "execution_count": null,
      "outputs": []
    },
    {
      "cell_type": "markdown",
      "source": [
        "Ask a string from user. Convert all the alphabets to uppercase."
      ],
      "metadata": {
        "id": "NrpxU3vys6xv"
      }
    },
    {
      "cell_type": "code",
      "source": [
        "string = input(\"Enter any string: \")\n",
        "\n",
        "upper = string.upper()\n",
        "\n",
        "print(upper)"
      ],
      "metadata": {
        "colab": {
          "base_uri": "https://localhost:8080/"
        },
        "id": "4dwmUck5re9l",
        "outputId": "5c9be7ba-e2ed-4208-d0a0-b2dac5df69f5"
      },
      "execution_count": null,
      "outputs": [
        {
          "output_type": "stream",
          "name": "stdout",
          "text": [
            "Enter any string: asdff\n",
            "ASDFF\n"
          ]
        }
      ]
    },
    {
      "cell_type": "code",
      "source": [
        "string = input(\"Enter any string: \")\n",
        "\n",
        "for chr in string:\n",
        "  upper = chr.upper()\n",
        "  print(upper, end = \"\")"
      ],
      "metadata": {
        "colab": {
          "base_uri": "https://localhost:8080/"
        },
        "id": "tJs2GyGbtOMi",
        "outputId": "0379944d-c746-4863-fa3c-e2f8442c0ba6"
      },
      "execution_count": null,
      "outputs": [
        {
          "output_type": "stream",
          "name": "stdout",
          "text": [
            "Enter any string: afdffsdf\n",
            "AFDFFSDF"
          ]
        }
      ]
    },
    {
      "cell_type": "code",
      "source": [],
      "metadata": {
        "id": "1GwB0pd1toAG"
      },
      "execution_count": null,
      "outputs": []
    },
    {
      "cell_type": "markdown",
      "source": [
        "Ask a string from user. Convert all the alphabets to lowercase."
      ],
      "metadata": {
        "id": "ZHxvwkv0tq3L"
      }
    },
    {
      "cell_type": "code",
      "source": [
        "string = input(\"Enter any string: \")\n",
        "\n",
        "for chr in string:\n",
        "  upper = chr.lower()\n",
        "  print(upper, end = \"\")"
      ],
      "metadata": {
        "colab": {
          "base_uri": "https://localhost:8080/"
        },
        "id": "K2UGjTn9to_M",
        "outputId": "7594670f-eade-418f-8f77-b18f6a9a62f6"
      },
      "execution_count": null,
      "outputs": [
        {
          "output_type": "stream",
          "name": "stdout",
          "text": [
            "Enter any string: 1231321\n",
            "1231321"
          ]
        }
      ]
    },
    {
      "cell_type": "code",
      "source": [],
      "metadata": {
        "id": "B9di70CVtxAk"
      },
      "execution_count": null,
      "outputs": []
    },
    {
      "cell_type": "markdown",
      "source": [
        "Ask a string from user. Convert uppercase to lowercase and convert\n",
        "lowercase to uppercase and don’t change the other letters."
      ],
      "metadata": {
        "id": "QUbxCV6tt0Eh"
      }
    },
    {
      "cell_type": "code",
      "source": [
        "user_input = input(\"Enter a string: \")\n",
        "\n",
        "converted = \"\"\n",
        "\n",
        "for char in user_input:\n",
        "    if char.isupper():\n",
        "        converted += char.lower()\n",
        "    elif char.islower():\n",
        "        converted += char.upper()\n",
        "    else:\n",
        "        converted += char\n",
        "\n",
        "print(\"Converted string:\", converted)\n"
      ],
      "metadata": {
        "colab": {
          "base_uri": "https://localhost:8080/"
        },
        "id": "kzjVbUdZt07H",
        "outputId": "2d674f97-da93-4e97-ffc3-1d98d51e2cd0"
      },
      "execution_count": null,
      "outputs": [
        {
          "output_type": "stream",
          "name": "stdout",
          "text": [
            "Enter a string: asd123ASD\n",
            "Converted string: ASD123asd\n"
          ]
        }
      ]
    },
    {
      "cell_type": "code",
      "source": [],
      "metadata": {
        "id": "vq0Nj9K9vtFQ"
      },
      "execution_count": null,
      "outputs": []
    },
    {
      "cell_type": "markdown",
      "source": [
        "Count the number of spaces in a string entered by user."
      ],
      "metadata": {
        "id": "JBY2rNZGvtRo"
      }
    },
    {
      "cell_type": "code",
      "source": [
        "user_input = input(\"Enter a string: \")\n",
        "\n",
        "spc_count = user_input.count(\" \")\n",
        "\n",
        "print(\"Total number of spaces:\", spc_count)\n"
      ],
      "metadata": {
        "colab": {
          "base_uri": "https://localhost:8080/"
        },
        "id": "VVxolB9Tvtwv",
        "outputId": "33fd9cbc-6e12-41bf-e822-18e244e78bca"
      },
      "execution_count": null,
      "outputs": [
        {
          "output_type": "stream",
          "name": "stdout",
          "text": [
            "Enter a string: asd sadad\n",
            "Total number of spaces: 1\n"
          ]
        }
      ]
    },
    {
      "cell_type": "code",
      "source": [
        "user_input = input(\"Enter a string: \")\n",
        "\n",
        "chr_count = len(user_input)\n",
        "\n",
        "print(chr_count)"
      ],
      "metadata": {
        "colab": {
          "base_uri": "https://localhost:8080/"
        },
        "id": "SyxPN2Vvwklt",
        "outputId": "846d2122-d158-4c42-867f-cafc1fe8520b"
      },
      "execution_count": null,
      "outputs": [
        {
          "output_type": "stream",
          "name": "stdout",
          "text": [
            "Enter a string: sdfsda\n",
            "6\n"
          ]
        }
      ]
    },
    {
      "cell_type": "markdown",
      "source": [
        "#String methods"
      ],
      "metadata": {
        "id": "l7ZbjGVZxA1W"
      }
    },
    {
      "cell_type": "markdown",
      "source": [
        "Ask a string from user. Print the count of how many alphabets, digits, spaces and symbols (everything else) are there in that string."
      ],
      "metadata": {
        "id": "c_t2qxBkxFAq"
      }
    },
    {
      "cell_type": "code",
      "source": [
        "input_string = input(\"Enter a string: \")\n",
        "\n",
        "alphabets = 0\n",
        "digits = 0\n",
        "spaces = 0\n",
        "symbols = 0\n",
        "\n",
        "for chr in input_string:\n",
        "  if chr.isalpha():\n",
        "    alphabets = alphabets + 1\n",
        "  elif chr.isdigit():\n",
        "    digits = digits + 1\n",
        "  elif chr.isspace():\n",
        "    spaces = spaces + 1\n",
        "  else:\n",
        "    symbols + symbols + 1\n",
        "\n",
        "print(\"Alphabets: \", alphabets)\n",
        "print(\"Digits: \", digits)\n",
        "print(\"Spaces: \", spaces)\n",
        "print(\"Symbols: \", symbols)\n"
      ],
      "metadata": {
        "id": "zqONFpjHxHtF",
        "colab": {
          "base_uri": "https://localhost:8080/"
        },
        "outputId": "106a0440-5857-486e-9600-9b55ba6e9f63"
      },
      "execution_count": 39,
      "outputs": [
        {
          "output_type": "stream",
          "name": "stdout",
          "text": [
            "Enter a string: asdad12312 21312qaadsf%%^54\n",
            "Alphabets:  11\n",
            "Digits:  12\n",
            "Spaces:  1\n",
            "Symbols:  0\n"
          ]
        }
      ]
    },
    {
      "cell_type": "code",
      "source": [],
      "metadata": {
        "id": "oRw3205PEWr2"
      },
      "execution_count": null,
      "outputs": []
    },
    {
      "cell_type": "markdown",
      "source": [
        "Write a program to reverse the order of words."
      ],
      "metadata": {
        "id": "8jrGqE3HEW40"
      }
    },
    {
      "cell_type": "code",
      "source": [
        "input_string = \"Hello World\"\n",
        "\n",
        "words = input_string.split()\n",
        "\n",
        "reversed_words = \" \".join(reversed(words))\n",
        "\n",
        "print(\"Reversed order of words:\", reversed_words)\n"
      ],
      "metadata": {
        "colab": {
          "base_uri": "https://localhost:8080/"
        },
        "id": "baH2nMoOEXii",
        "outputId": "be041a17-fa4c-4765-ad3a-b07e901425d7"
      },
      "execution_count": 54,
      "outputs": [
        {
          "output_type": "stream",
          "name": "stdout",
          "text": [
            "Reversed order of words: World-Hello\n"
          ]
        }
      ]
    },
    {
      "cell_type": "code",
      "source": [],
      "metadata": {
        "id": "cTqPufeJEoLP"
      },
      "execution_count": null,
      "outputs": []
    },
    {
      "cell_type": "markdown",
      "source": [
        "Write a program that accepts a string and capitalizes the first letter of each word while converting all other letters to lowercase."
      ],
      "metadata": {
        "id": "jBLHxKS3F_zy"
      }
    },
    {
      "cell_type": "code",
      "source": [
        "user_input = input(\"Enter any string: \")\n",
        "\n",
        "cap = user_input.title()\n",
        "\n",
        "print(cap)"
      ],
      "metadata": {
        "colab": {
          "base_uri": "https://localhost:8080/"
        },
        "id": "6ChwThpiGBMm",
        "outputId": "a1526b58-c97d-49ab-83c4-cf0be1b2fa97"
      },
      "execution_count": 56,
      "outputs": [
        {
          "output_type": "stream",
          "name": "stdout",
          "text": [
            "Enter any string: heLLO WORld\n",
            "Hello World\n"
          ]
        }
      ]
    },
    {
      "cell_type": "code",
      "source": [],
      "metadata": {
        "id": "TbawXSqWGZ26"
      },
      "execution_count": null,
      "outputs": []
    },
    {
      "cell_type": "markdown",
      "source": [
        "Write a program that reverses each word in a sentence while\n",
        "maintaining the word order. For example, \"Hello World\" should become"
      ],
      "metadata": {
        "id": "6mMgsvnXGaGh"
      }
    },
    {
      "cell_type": "code",
      "source": [
        "message = \"Hello world\"\n",
        "\n",
        "spl = message.split()\n",
        "\n",
        "for i in spl:\n",
        "  reverse = i[::-1]\n",
        "  print(reverse, end = \" \")"
      ],
      "metadata": {
        "colab": {
          "base_uri": "https://localhost:8080/"
        },
        "id": "RB0uuP5aGbAo",
        "outputId": "ec98ddc7-32ca-411b-cea2-aafe21c43a58"
      },
      "execution_count": 65,
      "outputs": [
        {
          "output_type": "stream",
          "name": "stdout",
          "text": [
            "olleH dlrow "
          ]
        }
      ]
    },
    {
      "cell_type": "code",
      "source": [],
      "metadata": {
        "id": "0TsxXijEIM-_"
      },
      "execution_count": null,
      "outputs": []
    },
    {
      "cell_type": "markdown",
      "source": [
        "Write a program that converts a string in camelCase to snake_case.\n",
        "For example, converting \"helloWorldHowAreYou\" should result in\n",
        "\"hello_world_how_are_you\"."
      ],
      "metadata": {
        "id": "yUC_XCP2INQe"
      }
    },
    {
      "cell_type": "code",
      "source": [
        "message = \"helloWorldHowAreYou\"\n",
        "\n",
        "cam_case = \"\"\n",
        "\n",
        "for chr in message:\n",
        "  if chr.isupper():\n",
        "    splitt =  message.split(\" \")\n",
        "    print(splitt)"
      ],
      "metadata": {
        "colab": {
          "base_uri": "https://localhost:8080/"
        },
        "id": "-jdOGpEEIN50",
        "outputId": "88527789-640c-49cf-d821-4caf5381b166"
      },
      "execution_count": 69,
      "outputs": [
        {
          "output_type": "stream",
          "name": "stdout",
          "text": [
            "['helloWorldHowAreYou']\n",
            "['helloWorldHowAreYou']\n",
            "['helloWorldHowAreYou']\n",
            "['helloWorldHowAreYou']\n"
          ]
        }
      ]
    }
  ],
  "metadata": {
    "colab": {
      "provenance": []
    },
    "kernelspec": {
      "display_name": "Python 3",
      "name": "python3"
    }
  },
  "nbformat": 4,
  "nbformat_minor": 0
}