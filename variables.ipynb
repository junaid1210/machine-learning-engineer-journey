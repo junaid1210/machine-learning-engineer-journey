{
  "cells": [
    {
      "cell_type": "markdown",
      "metadata": {
        "id": "view-in-github",
        "colab_type": "text"
      },
      "source": [
        "<a href=\"https://colab.research.google.com/github/junaid1210/machine-learning-engineer-journey/blob/main/variables.ipynb\" target=\"_parent\"><img src=\"https://colab.research.google.com/assets/colab-badge.svg\" alt=\"Open In Colab\"/></a>"
      ]
    },
    {
      "cell_type": "markdown",
      "source": [
        "#Variables"
      ],
      "metadata": {
        "id": "i8jxQtRIvM0n"
      }
    },
    {
      "cell_type": "code",
      "source": [
        "month1 = 1000\n",
        "month2 = 3000\n",
        "month3 = 5000\n",
        "\n",
        "total = month1 + month2 + month3\n",
        "print (total)"
      ],
      "metadata": {
        "id": "I0y1H9E0oy8j",
        "outputId": "8efc62cd-8105-459a-b144-a2d795f7a8c4",
        "colab": {
          "base_uri": "https://localhost:8080/"
        }
      },
      "execution_count": null,
      "outputs": [
        {
          "output_type": "stream",
          "name": "stdout",
          "text": [
            "9000\n"
          ]
        }
      ]
    },
    {
      "cell_type": "code",
      "source": [
        "print(\"Total months are:\",3,\"\\nand total expense is:\", total)"
      ],
      "metadata": {
        "id": "0y2VC8Idoy6B",
        "outputId": "987b3642-7868-4793-9ce9-c02470712562",
        "colab": {
          "base_uri": "https://localhost:8080/"
        }
      },
      "execution_count": null,
      "outputs": [
        {
          "output_type": "stream",
          "name": "stdout",
          "text": [
            "Total months are: 3 \n",
            "and total expense is: 9000\n"
          ]
        }
      ]
    },
    {
      "cell_type": "code",
      "source": [],
      "metadata": {
        "id": "Ua057Z6CoyMB"
      },
      "execution_count": null,
      "outputs": []
    },
    {
      "cell_type": "code",
      "source": [
        "Dinner = input(\"What would you like to eat? \")\n",
        "print(\"The visitor wants to eat\",Dinner)"
      ],
      "metadata": {
        "id": "GoOTyAnxoyJd",
        "outputId": "c2ac23a2-1b50-44f6-fa9b-52e94599f3a5",
        "colab": {
          "base_uri": "https://localhost:8080/"
        }
      },
      "execution_count": null,
      "outputs": [
        {
          "output_type": "stream",
          "name": "stdout",
          "text": [
            "What would you like to eat? Pulao\n",
            "The visitor wants to eat Pulao\n"
          ]
        }
      ]
    }
  ],
  "metadata": {
    "colab": {
      "provenance": [],
      "include_colab_link": true
    },
    "kernelspec": {
      "display_name": "Python 3",
      "name": "python3"
    }
  },
  "nbformat": 4,
  "nbformat_minor": 0
}